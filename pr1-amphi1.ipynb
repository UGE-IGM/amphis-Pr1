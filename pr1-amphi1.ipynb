{
 "cells": [
  {
   "cell_type": "markdown",
   "metadata": {
    "slideshow": {
     "slide_type": "slide"
    }
   },
   "source": [
    "<div style=\"align:center; font-size:large\">\n",
    "    <img src='img/logo-igm.png' width=50%>\n",
    "</div>\n",
    "\n",
    "**L1 Mathématiques - L1 Informatique — Semestre 1**\n",
    "\n",
    "# Projet 1 - Cours du 6/12/2021"
   ]
  },
  {
   "cell_type": "markdown",
   "metadata": {
    "slideshow": {
     "slide_type": "slide"
    }
   },
   "source": [
    "## Contenu du cours (indicatif)\n",
    "\n",
    "Cours 1\n",
    "- Présentation de l'UE\n",
    "- Présentation du sujet\n",
    "- Conseils de travail\n",
    "- Complément de cours : itérables\n",
    "- Questions / réponses"
   ]
  },
  {
   "cell_type": "markdown",
   "metadata": {
    "slideshow": {
     "slide_type": "subslide"
    }
   },
   "source": [
    "Cours 2\n",
    "- Complément de cours : types mutables et immutables\n",
    "- Complément de cours : `fltk`\n",
    "- Compléments et exercices selon demande\n",
    "- Questions / réponses"
   ]
  },
  {
   "cell_type": "markdown",
   "metadata": {
    "slideshow": {
     "slide_type": "subslide"
    }
   },
   "source": [
    "Cours 3\n",
    "- Conseils de rédaction du rapport\n",
    "- Conseils pour la soutenance\n",
    "- Compléments et exercices selon demande\n",
    "- Questions / réponses"
   ]
  },
  {
   "cell_type": "markdown",
   "metadata": {
    "slideshow": {
     "slide_type": "slide"
    }
   },
   "source": [
    "## Présentation de l'UE\n",
    "\n",
    "- Organisation\n",
    "- Consignes\n",
    "- Évaluation\n",
    "- Réponse aux questions"
   ]
  },
  {
   "cell_type": "markdown",
   "metadata": {
    "slideshow": {
     "slide_type": "subslide"
    }
   },
   "source": [
    "### Organisation\n",
    "\n",
    "Calendrier : \n",
    "- début lundi 6 décembre\n",
    "- fin : vendredi 7 janvier\n",
    "- soutenances : semaine du 10 janvier (sauf changement)"
   ]
  },
  {
   "cell_type": "markdown",
   "metadata": {
    "slideshow": {
     "slide_type": "subslide"
    }
   },
   "source": [
    "Rythme : \n",
    "- cours en amphi les lundis 6/12, 13/12 et 3/1\n",
    "- TP les mêmes semaines, en salles 102, 104 et 106\n",
    "- 2h de TP encadré ; 2h de TP en autonomie"
   ]
  },
  {
   "cell_type": "markdown",
   "metadata": {
    "slideshow": {
     "slide_type": "subslide"
    }
   },
   "source": [
    "### Consignes\n",
    "\n",
    "Réalisation d'un projet de programmation \n",
    "- par équipes de 2 ou 3 du **même TP**\n",
    "- pas d'équipes de 1 ni de 4 !\n",
    "- en utilisant `fltk` pour la partie graphique"
   ]
  },
  {
   "cell_type": "markdown",
   "metadata": {
    "slideshow": {
     "slide_type": "subslide"
    }
   },
   "source": [
    "Constitution des équipes\n",
    "- renseigner son groupe de TP sur elearning\n",
    "- former une équipe de 2 ou 3 personnes\n",
    "- choisir un numéro d'équipe et y inscrire chaque participant"
   ]
  },
  {
   "cell_type": "markdown",
   "metadata": {
    "slideshow": {
     "slide_type": "subslide"
    }
   },
   "source": [
    "Rédaction d'un rapport\n",
    "- 5 pages environ, hors page de garde, hors annexes (images, code...)\n",
    "- contenu précisé dans un prochain amphi"
   ]
  },
  {
   "cell_type": "markdown",
   "metadata": {
    "slideshow": {
     "slide_type": "subslide"
    }
   },
   "source": [
    "Soutenance\n",
    "- 15 mn environ\n",
    "- présentation + questions du jury\n",
    "- tout le monde doit savoir répondre à toutes les questions"
   ]
  },
  {
   "cell_type": "markdown",
   "metadata": {
    "slideshow": {
     "slide_type": "slide"
    }
   },
   "source": [
    "## Présentation du sujet\n",
    "\n",
    "[Jeux de Nim](https://igm.univ-mlv.fr/~ameyer/pr1/)"
   ]
  },
  {
   "cell_type": "markdown",
   "metadata": {
    "slideshow": {
     "slide_type": "slide"
    }
   },
   "source": [
    "## Conseils de travail\n",
    "\n",
    "1. Démarrez le projet tout de suite (vous avez seulement un mois, vacances comprises !)\n",
    "2. Répartissez les responsabilités\n",
    "    - Qui est **responsable** de quelle tâche (1 à 4 + rapport) ?\n",
    "    - Qui garde la version la plus à jour du code ?\n",
    "    - Qui surveille l'avancement du projet et les délais ?\n",
    "3. Décidez d'une méthode de travail\n",
    "    - Comment communique-t-on entre équipiers (Discord, Zoom, Signal, téléphone...) ?\n",
    "    - Comment avance-t-on sur le code (ensemble ou chacun.e de son côté) ?"
   ]
  },
  {
   "cell_type": "markdown",
   "metadata": {
    "slideshow": {
     "slide_type": "subslide"
    }
   },
   "source": [
    "Pour pouvoir programmer en même temps sur **différentes** parties du code :\n",
    "- Se mettre d'accord sur la représentation des objets\n",
    "- Utiliser des fonctions avec une spécification claire (notion d'**interface**)\n",
    "- Mettre le code en commun **régulièrement** et **TESTER !!!**"
   ]
  },
  {
   "cell_type": "markdown",
   "metadata": {
    "slideshow": {
     "slide_type": "subslide"
    }
   },
   "source": [
    "Exemple :\n",
    "- Tu écris les fonctions qui créent et modifient l'état du jeu\n",
    "- J'écris une fonction qui reçoit l'état du jeu et le dessine avec `fltk`\n",
    "\n",
    "Chacun peut avancer de son côté, puis on met en commun"
   ]
  },
  {
   "cell_type": "markdown",
   "metadata": {
    "slideshow": {
     "slide_type": "subslide"
    }
   },
   "source": [
    "Pour pouvoir programmer en même temps sur les **mêmes** parties du code :\n",
    "- Être ensemble tout le temps pour travailler (en Ader, à la bibliothèque, chez soi...)\n",
    "- OU partager son écran en ligne (avec Discord, Zoom ou autre)\n",
    "- OU utiliser un éditeur collaboratif en ligne comme https://replit.com/"
   ]
  },
  {
   "cell_type": "markdown",
   "metadata": {
    "slideshow": {
     "slide_type": "slide"
    }
   },
   "source": [
    "## Complément de cours : Itérables"
   ]
  },
  {
   "cell_type": "markdown",
   "metadata": {
    "slideshow": {
     "slide_type": "-"
    }
   },
   "source": [
    "Le [glossaire Python](https://docs.python.org/fr/3/glossary.html#term-iterable) définit **itérable** comme:\n",
    "\n",
    "> Objet capable de renvoyer ses éléments un à un.\n",
    "\n",
    "Par exemple, les `list` et les `str` sont des *itérables*, ainsi que les `tuple` et les objets renvoyés par la fonction `range`."
   ]
  },
  {
   "cell_type": "markdown",
   "metadata": {
    "slideshow": {
     "slide_type": "subslide"
    }
   },
   "source": [
    "Le principal intérêt d'un *itérable* est qu'on peut l'utiliser dans une boucle `for` pour parcourir ses éléments un par un. Par exemple pour une liste :"
   ]
  },
  {
   "cell_type": "code",
   "execution_count": 1,
   "metadata": {
    "slideshow": {
     "slide_type": "-"
    }
   },
   "outputs": [
    {
     "name": "stdout",
     "output_type": "stream",
     "text": [
      "a\n",
      "b\n",
      "c\n"
     ]
    }
   ],
   "source": [
    "lst = ['a', 'b', 'c']\n",
    "for element in lst:\n",
    "    print(element)"
   ]
  },
  {
   "cell_type": "markdown",
   "metadata": {
    "slideshow": {
     "slide_type": "subslide"
    }
   },
   "source": [
    "Vous avez déjà rencontré des boucles de cette forme utilisant la fonction `range` :"
   ]
  },
  {
   "cell_type": "code",
   "execution_count": 2,
   "metadata": {
    "slideshow": {
     "slide_type": "-"
    }
   },
   "outputs": [
    {
     "name": "stdout",
     "output_type": "stream",
     "text": [
      "0\n",
      "1\n",
      "2\n"
     ]
    }
   ],
   "source": [
    "for i in range(3):\n",
    "    print(i)"
   ]
  },
  {
   "cell_type": "markdown",
   "metadata": {
    "slideshow": {
     "slide_type": "subslide"
    }
   },
   "source": [
    "Cela fonctionne parce que `range` renvoie un objet **itérable** (de type... `range`)"
   ]
  },
  {
   "cell_type": "code",
   "execution_count": 3,
   "metadata": {
    "slideshow": {
     "slide_type": "-"
    }
   },
   "outputs": [
    {
     "data": {
      "text/plain": [
       "range"
      ]
     },
     "execution_count": 3,
     "metadata": {},
     "output_type": "execute_result"
    }
   ],
   "source": [
    "type(range(10))"
   ]
  },
  {
   "cell_type": "markdown",
   "metadata": {
    "slideshow": {
     "slide_type": "subslide"
    }
   },
   "source": [
    "**Exercice :** Écrire une fonction `affiche` qui reçoit un itérable `elems` et affiche ses éléments (un par ligne) à l'aide d'une boucle `for`, et la tester avec divers itérables (de type `list`, `tuple`, `str` et `range`)"
   ]
  },
  {
   "cell_type": "code",
   "execution_count": 8,
   "metadata": {
    "slideshow": {
     "slide_type": "-"
    }
   },
   "outputs": [
    {
     "name": "stdout",
     "output_type": "stream",
     "text": [
      "1\n",
      "2\n",
      "3\n",
      "4\n"
     ]
    }
   ],
   "source": [
    "def affiche(elems):\n",
    "    for elem in elems:\n",
    "        print(elem)\n",
    "        \n",
    "affiche((1, 2, 3, 4))"
   ]
  },
  {
   "cell_type": "markdown",
   "metadata": {
    "slideshow": {
     "slide_type": "subslide"
    }
   },
   "source": [
    "**Exercice :** Écrire une fonction `appartient` qui reçoit un itérable `elems` et une valeur `x` et renvoie `True` si `x` est un élément de `elems` et `False` sinon, et la tester avec divers itérables (de type `list`, `tuple`, `str` et `range`).\n",
    "\n",
    "*Remarque : cette fonctionnalité existe en Python (opérateur `in`)*\n",
    "\n",
    "*Contraintes :* boucle `for`, pas de `range`, pas de test `x in elems`"
   ]
  },
  {
   "cell_type": "code",
   "execution_count": 12,
   "metadata": {
    "slideshow": {
     "slide_type": "-"
    }
   },
   "outputs": [
    {
     "data": {
      "text/plain": [
       "False"
      ]
     },
     "execution_count": 12,
     "metadata": {},
     "output_type": "execute_result"
    }
   ],
   "source": [
    "def appartient(elems, x):\n",
    "    for elem in elems:\n",
    "        if elem == x:\n",
    "            return True\n",
    "    return False  # SURTOUT PAS dans la boucle !!!!!\n",
    "\n",
    "appartient(\"bonjour\", \"jour\")"
   ]
  },
  {
   "cell_type": "markdown",
   "metadata": {
    "slideshow": {
     "slide_type": "slide"
    }
   },
   "source": [
    "### Que peut-on faire d'autre avec un itérable ?\n",
    "\n",
    "N'importe quel itérable permet aussi, entre autres :\n",
    "- de créer une liste avec `list(elems)` ou un tuple avec `tuple(elems)`\n",
    "- de tester l'appartenance d'un élément avec `x in elems` et `x not in elems`\n",
    "- *hors programme:* d'utiliser toute fonction recevant en paramètre un ou plusieurs itérables (comme `sum`, `min`, `max`, `any`, `all`, `zip`, `map`, `filter`, `sorted`, etc.)\n",
    "- *hors programme:* d'écrire une *mutation de liste*"
   ]
  },
  {
   "cell_type": "code",
   "execution_count": 14,
   "metadata": {
    "slideshow": {
     "slide_type": "subslide"
    }
   },
   "outputs": [
    {
     "data": {
      "text/plain": [
       "['b', 'o', 'n', 'j', 'o', 'u', 'r']"
      ]
     },
     "execution_count": 14,
     "metadata": {},
     "output_type": "execute_result"
    }
   ],
   "source": [
    "list(\"bonjour\")"
   ]
  },
  {
   "cell_type": "code",
   "execution_count": null,
   "metadata": {
    "slideshow": {
     "slide_type": "subslide"
    }
   },
   "outputs": [],
   "source": [
    "tuple('abc')"
   ]
  },
  {
   "cell_type": "code",
   "execution_count": null,
   "metadata": {
    "slideshow": {
     "slide_type": "subslide"
    }
   },
   "outputs": [],
   "source": [
    "7 in range(10)"
   ]
  },
  {
   "cell_type": "code",
   "execution_count": 15,
   "metadata": {
    "slideshow": {
     "slide_type": "subslide"
    }
   },
   "outputs": [
    {
     "data": {
      "text/plain": [
       "[2, 3, 3, 7, 3, 3, 5]"
      ]
     },
     "execution_count": 15,
     "metadata": {},
     "output_type": "execute_result"
    }
   ],
   "source": [
    "phrase = 'We are the knights who say \"Ni!\"'\n",
    "mots = phrase.split()\n",
    "[len(mot) for mot in mots]"
   ]
  },
  {
   "cell_type": "code",
   "execution_count": null,
   "metadata": {
    "slideshow": {
     "slide_type": "subslide"
    }
   },
   "outputs": [],
   "source": [
    "list(zip(range(1, 4), \n",
    "         ['un', 'deux', 'trois'], \n",
    "         ['one', 'two', 'three'], \n",
    "         ['eins', 'tzwei', 'drei']))"
   ]
  },
  {
   "cell_type": "markdown",
   "metadata": {
    "slideshow": {
     "slide_type": "slide"
    }
   },
   "source": [
    "### Intervalles d'entiers : `range`\n",
    "\n",
    "https://docs.python.org/fr/3/library/stdtypes.html#ranges\n",
    "\n",
    "La fonction `range` fabrique des intervalles d'entiers:\n",
    "\n",
    "* `range(i)` : entiers de `0` à `i-1`\n",
    "* `range(i, j)` : entiers de `i` à `j-1`\n",
    "* `range(i, j, k)` : entiers de `i` à `j-1` par\n",
    "  pas de `k`"
   ]
  },
  {
   "cell_type": "markdown",
   "metadata": {
    "slideshow": {
     "slide_type": "subslide"
    }
   },
   "source": [
    "Len opérations autorisées sur un `range` `r` sont :\n",
    "\n",
    "* `x in r, x not in r`\n",
    "* `r[i]`\n",
    "* `len(r), min(r), max(r), r.index(x), r.count(x)`\n",
    "* `list(r)` (conversion en liste)"
   ]
  },
  {
   "cell_type": "markdown",
   "metadata": {
    "slideshow": {
     "slide_type": "subslide"
    }
   },
   "source": [
    "Toutes les autres opérations sont interdites sur un range (car un range est non mutable, contrairement à une liste). Plus précisément, sont interdits :\n",
    "\n",
    "- Concaténation, répétition, affectation d'élément\n",
    "- Autres méthodes de listes (append, etc.)"
   ]
  },
  {
   "cell_type": "markdown",
   "metadata": {
    "slideshow": {
     "slide_type": "subslide"
    }
   },
   "source": [
    "Caractéristique importante :\n",
    "\n",
    "Un `range` n'est pas construit entièrement en mémoire. Au lieu de cela, ses éléments sont fabriqués « à la demande ». Donc, par exemple, un appel à `range(10000)` ne prend pas plus de place en mémoire (ni de temps à construire) que `range(2)`. "
   ]
  },
  {
   "cell_type": "markdown",
   "metadata": {
    "slideshow": {
     "slide_type": "subslide"
    }
   },
   "source": [
    "Utilisation fréquente des `range` : parcours des indices d'une liste"
   ]
  },
  {
   "cell_type": "code",
   "execution_count": 16,
   "metadata": {
    "slideshow": {
     "slide_type": "-"
    }
   },
   "outputs": [
    {
     "name": "stdout",
     "output_type": "stream",
     "text": [
      "0 -> a\n",
      "1 -> b\n",
      "2 -> c\n"
     ]
    }
   ],
   "source": [
    "lst = ['a', 'b', 'c']\n",
    "for i in range(len(lst)):\n",
    "    print(i, '->', lst[i])"
   ]
  },
  {
   "cell_type": "markdown",
   "metadata": {
    "slideshow": {
     "slide_type": "subslide"
    }
   },
   "source": [
    "**Exercice :** Écrire une fonction `premier_indice(elems, x)` qui renvoie la première position de `x` dans la liste `elems` (ou `None` si `x` n'est pas dans `elems`) en utilisant une boucle `for` et la fonction `range`\n",
    "\n",
    "*Remarque : cette fonctionnalité existe en Python (méthode `index`)*"
   ]
  },
  {
   "cell_type": "code",
   "execution_count": 17,
   "metadata": {
    "slideshow": {
     "slide_type": "-"
    }
   },
   "outputs": [
    {
     "data": {
      "text/plain": [
       "1"
      ]
     },
     "execution_count": 17,
     "metadata": {},
     "output_type": "execute_result"
    }
   ],
   "source": [
    "def premier_indice(elems, x):\n",
    "    for i in range(len(elems)):\n",
    "        if elems[i] == x:\n",
    "            return i  # ATTENTION ICI !\n",
    "    return None\n",
    "\n",
    "premier_indice((1, 2, 1, 2, 1), 2)"
   ]
  },
  {
   "cell_type": "markdown",
   "metadata": {
    "slideshow": {
     "slide_type": "-"
    }
   },
   "source": [
    "Pourquoi est-il nécessaire d'utiliser `range` ici ?"
   ]
  },
  {
   "cell_type": "markdown",
   "metadata": {
    "slideshow": {
     "slide_type": "subslide"
    }
   },
   "source": [
    "**Exercice :** Écrire une fonction `dernier_indice(elems, x)` qui renvoie la dernière position de `x` dans la liste `elems` (ou `None` si `x` n'est pas dans `elems`) en utilisant une boucle `for` et la fonction `range`"
   ]
  },
  {
   "cell_type": "code",
   "execution_count": null,
   "metadata": {
    "slideshow": {
     "slide_type": "-"
    }
   },
   "outputs": [],
   "source": []
  },
  {
   "cell_type": "markdown",
   "metadata": {
    "slideshow": {
     "slide_type": "slide"
    }
   },
   "source": [
    "### <img src='img/non-exigible.png' width='35px' style='display:inline'> Un dernier type de parcours d'itérable : `enumerate`\n",
    "\n",
    "*La connaissance de cette notion n'est pas exigible à l'examen.*\n",
    "\n",
    "La fonction `enumerate(iterable)` renvoie un nouvel itérable constitué des couples `(i, elem)` contenant un indice et un élément. "
   ]
  },
  {
   "cell_type": "code",
   "execution_count": 18,
   "metadata": {
    "slideshow": {
     "slide_type": "-"
    }
   },
   "outputs": [
    {
     "data": {
      "text/plain": [
       "[(0, 'a'), (1, 'b'), (2, 'c')]"
      ]
     },
     "execution_count": 18,
     "metadata": {},
     "output_type": "execute_result"
    }
   ],
   "source": [
    "list(enumerate(['a', 'b', 'c']))"
   ]
  },
  {
   "cell_type": "markdown",
   "metadata": {
    "slideshow": {
     "slide_type": "subslide"
    }
   },
   "source": [
    "Reprenons un exemple précédent :"
   ]
  },
  {
   "cell_type": "code",
   "execution_count": 19,
   "metadata": {
    "slideshow": {
     "slide_type": "-"
    }
   },
   "outputs": [
    {
     "name": "stdout",
     "output_type": "stream",
     "text": [
      "0 -> a\n",
      "1 -> b\n",
      "2 -> c\n"
     ]
    }
   ],
   "source": [
    "lst = ['a', 'b', 'c']\n",
    "for i, elem in enumerate(lst):\n",
    "    print(i, '->', elem)"
   ]
  },
  {
   "cell_type": "markdown",
   "metadata": {
    "slideshow": {
     "slide_type": "subslide"
    }
   },
   "source": [
    "**Exercice :** Réécrire la fonction `premier_indice(elems, x)` en utilisant une boucle `for` et la fonction `enumerate`"
   ]
  },
  {
   "cell_type": "code",
   "execution_count": null,
   "metadata": {
    "slideshow": {
     "slide_type": "-"
    }
   },
   "outputs": [],
   "source": []
  },
  {
   "cell_type": "markdown",
   "metadata": {
    "slideshow": {
     "slide_type": "slide"
    }
   },
   "source": [
    "## Questions-réponses\n",
    "\n",
    "À vous..."
   ]
  },
  {
   "cell_type": "code",
   "execution_count": null,
   "metadata": {},
   "outputs": [],
   "source": []
  }
 ],
 "metadata": {
  "celltoolbar": "Diaporama",
  "kernelspec": {
   "display_name": "Python 3 (ipykernel)",
   "language": "python",
   "name": "python3"
  },
  "language_info": {
   "codemirror_mode": {
    "name": "ipython",
    "version": 3
   },
   "file_extension": ".py",
   "mimetype": "text/x-python",
   "name": "python",
   "nbconvert_exporter": "python",
   "pygments_lexer": "ipython3",
   "version": "3.9.9"
  }
 },
 "nbformat": 4,
 "nbformat_minor": 2
}
