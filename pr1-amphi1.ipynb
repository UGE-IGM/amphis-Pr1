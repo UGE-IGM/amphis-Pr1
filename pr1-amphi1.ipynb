{
 "cells": [
  {
   "cell_type": "markdown",
   "metadata": {
    "slideshow": {
     "slide_type": "slide"
    }
   },
   "source": [
    "<div style=\"align:center; font-size:large\">\n",
    "    <img src='img/logo-igm.png' width=50%>\n",
    "</div>\n",
    "\n",
    "**L1 Mathématiques - L1 Informatique — Semestre 1**\n",
    "\n",
    "# Projet 1 - Cours du 5/12/2022"
   ]
  },
  {
   "cell_type": "markdown",
   "metadata": {
    "slideshow": {
     "slide_type": "slide"
    }
   },
   "source": [
    "## Contenu du cours (indicatif)\n",
    "\n",
    "Cours 1\n",
    "- Présentation de l'UE\n",
    "- Présentation du sujet\n",
    "- Conseils de travail\n",
    "- Complément de cours : modélisation\n",
    "- Complément de cours : documentation du code\n",
    "- Questions / réponses"
   ]
  },
  {
   "cell_type": "markdown",
   "metadata": {
    "slideshow": {
     "slide_type": "subslide"
    }
   },
   "source": [
    "Cours 2\n",
    "- Compléments de cours et exercices selon demande\n",
    "- Conseils pour la rédaction du rapport\n",
    "- Conseils pour la présentation du projet\n",
    "- Questions / réponses"
   ]
  },
  {
   "cell_type": "markdown",
   "metadata": {
    "slideshow": {
     "slide_type": "subslide"
    }
   },
   "source": [
    "Cours 3 : \n",
    "- ANNULÉ en raison de la fermeture de l'université le 2/1"
   ]
  },
  {
   "cell_type": "markdown",
   "metadata": {
    "slideshow": {
     "slide_type": "slide"
    }
   },
   "source": [
    "## Présentation de l'UE\n",
    "\n",
    "- Organisation\n",
    "- Consignes\n",
    "- Évaluation\n",
    "- Réponse aux questions"
   ]
  },
  {
   "cell_type": "markdown",
   "metadata": {
    "slideshow": {
     "slide_type": "subslide"
    }
   },
   "source": [
    "### Organisation\n",
    "\n",
    "Calendrier : \n",
    "- début lundi 5 décembre\n",
    "- fin : vendredi 6 janvier\n",
    "- soutenances : semaine du 9 janvier"
   ]
  },
  {
   "cell_type": "markdown",
   "metadata": {
    "slideshow": {
     "slide_type": "subslide"
    }
   },
   "source": [
    "Rythme : \n",
    "- cours en amphi les lundis 5/12 et 12/12\n",
    "- TP en semaine 49, 50 et 1\n",
    "    - MI : salles 102, 104 et 106\n",
    "    - CPES : salle 27\n",
    "    - 4h de TP encadré par semaine\n",
    "    - **Sauf lundi 2/1** : fac fermée"
   ]
  },
  {
   "cell_type": "markdown",
   "metadata": {
    "slideshow": {
     "slide_type": "subslide"
    }
   },
   "source": [
    "### Consignes\n",
    "\n",
    "Réalisation d'un projet de programmation \n",
    "- par équipes de 2 ou 3 du **même TP**\n",
    "- pas d'équipes de 1 ni de 4 !\n",
    "- en utilisant `fltk` pour la partie graphique"
   ]
  },
  {
   "cell_type": "markdown",
   "metadata": {
    "slideshow": {
     "slide_type": "subslide"
    }
   },
   "source": [
    "Constitution des équipes\n",
    "- renseigner son groupe de TP sur elearning\n",
    "- former une équipe de 2 ou 3 personnes\n",
    "- choisir un numéro d'équipe et y inscrire chaque participant\n",
    "- en cas de souci : contacter un enseignant"
   ]
  },
  {
   "cell_type": "markdown",
   "metadata": {
    "slideshow": {
     "slide_type": "subslide"
    }
   },
   "source": [
    "Rédaction d'un rapport\n",
    "- 5 pages environ, hors page de garde, hors annexes (images, code...)\n",
    "- contenu précisé dans un prochain amphi"
   ]
  },
  {
   "cell_type": "markdown",
   "metadata": {
    "slideshow": {
     "slide_type": "subslide"
    }
   },
   "source": [
    "Soutenance\n",
    "- 15 mn environ\n",
    "- présentation + questions du jury\n",
    "- tout le monde doit savoir répondre à toutes les questions"
   ]
  },
  {
   "cell_type": "markdown",
   "metadata": {
    "slideshow": {
     "slide_type": "slide"
    }
   },
   "source": [
    "## Présentation du sujet\n",
    "\n",
    "[Jeu du moulin](https://igm.univ-mlv.fr/~ameyer/pr1/)"
   ]
  },
  {
   "cell_type": "markdown",
   "metadata": {
    "slideshow": {
     "slide_type": "slide"
    }
   },
   "source": [
    "## Conseils de travail\n",
    "\n",
    "1. Démarrez le projet tout de suite (vous avez seulement un mois, vacances comprises !)\n",
    "2. Répartissez les responsabilités\n",
    "    - Qui est **responsable** de quelle tâche (1 à 3 + rapport) ?\n",
    "    - Qui garde la version la plus à jour du code ?\n",
    "    - Qui surveille l'avancement du projet et les délais ?\n",
    "3. Décidez d'une méthode de travail\n",
    "    - Comment communique-t-on entre équipiers (Discord, rendez-vous à la BU, téléphone...) ?\n",
    "    - Comment avance-t-on sur le code (ensemble ou chacun.e de son côté) ?"
   ]
  },
  {
   "cell_type": "markdown",
   "metadata": {
    "slideshow": {
     "slide_type": "subslide"
    }
   },
   "source": [
    "Pour pouvoir programmer en même temps sur **différentes** parties du code :\n",
    "- Se mettre d'accord sur la représentation des objets\n",
    "- Utiliser des fonctions avec une spécification claire (notion d'**interface**)\n",
    "- Mettre le code en commun **régulièrement** et **TESTER !!!**\n",
    "- Éventuellement travailler sur plusieurs fichiers séparés (Cf. TP7 AP1)"
   ]
  },
  {
   "cell_type": "markdown",
   "metadata": {
    "slideshow": {
     "slide_type": "subslide"
    }
   },
   "source": [
    "Exemple :\n",
    "- Tu écris les fonctions qui créent et modifient l'état du jeu\n",
    "- J'écris une fonction qui reçoit l'état du jeu et le dessine avec `fltk`\n",
    "\n",
    "Chacun peut avancer de son côté, puis on met en commun (par exemple en TP) et on répartit de nouvelles tâches"
   ]
  },
  {
   "cell_type": "markdown",
   "metadata": {
    "slideshow": {
     "slide_type": "subslide"
    }
   },
   "source": [
    "Pour pouvoir programmer en même temps sur les **mêmes** parties du code :\n",
    "- Être ensemble tout le temps pour travailler (en Ader, à la bibliothèque, chez soi...)\n",
    "- OU partager son écran en ligne (avec Discord, Zoom ou autre)\n",
    "- OU utiliser un éditeur collaboratif en ligne comme https://replit.com/\n",
    "- OU utiliser des outils pour les pros (Git...)"
   ]
  },
  {
   "cell_type": "markdown",
   "metadata": {
    "slideshow": {
     "slide_type": "slide"
    }
   },
   "source": [
    "## Un exemple proche : jeu de retournement\n",
    "\n",
    "Démo sous Thonny. "
   ]
  },
  {
   "cell_type": "markdown",
   "metadata": {},
   "source": [
    "## Réflexion : représentation du plateau"
   ]
  },
  {
   "cell_type": "markdown",
   "metadata": {},
   "source": [
    "Ce qu'on veut pouvoir faire :\n",
    "\n",
    "- ..."
   ]
  },
  {
   "cell_type": "markdown",
   "metadata": {},
   "source": [
    "Représentations envisagées :\n",
    "\n",
    "- ..."
   ]
  },
  {
   "cell_type": "markdown",
   "metadata": {
    "slideshow": {
     "slide_type": "slide"
    }
   },
   "source": [
    "## Questions-réponses\n",
    "\n",
    "À vous..."
   ]
  },
  {
   "cell_type": "code",
   "execution_count": null,
   "metadata": {},
   "outputs": [],
   "source": []
  }
 ],
 "metadata": {
  "celltoolbar": "Diaporama",
  "kernelspec": {
   "display_name": "Python 3 (ipykernel)",
   "language": "python",
   "name": "python3"
  },
  "language_info": {
   "codemirror_mode": {
    "name": "ipython",
    "version": 3
   },
   "file_extension": ".py",
   "mimetype": "text/x-python",
   "name": "python",
   "nbconvert_exporter": "python",
   "pygments_lexer": "ipython3",
   "version": "3.10.8"
  },
  "vscode": {
   "interpreter": {
    "hash": "1a1af0ee75eeea9e2e1ee996c87e7a2b11a0bebd85af04bb136d915cefc0abce"
   }
  }
 },
 "nbformat": 4,
 "nbformat_minor": 2
}
