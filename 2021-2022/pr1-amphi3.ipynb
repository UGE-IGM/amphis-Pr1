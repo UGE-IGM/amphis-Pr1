{
 "cells": [
  {
   "cell_type": "markdown",
   "id": "eac8b019",
   "metadata": {
    "slideshow": {
     "slide_type": "slide"
    }
   },
   "source": [
    "<div style=\"align:center; font-size:large\">\n",
    "    <img src='img/logo-igm.png' width=50%>\n",
    "</div>\n",
    "\n",
    "**L1 Mathématiques - L1 Informatique — Semestre 1**\n",
    "\n",
    "# Projet 1 - Cours du 03/01/2022"
   ]
  },
  {
   "cell_type": "markdown",
   "id": "097f654a",
   "metadata": {
    "slideshow": {
     "slide_type": "subslide"
    }
   },
   "source": [
    "Contenu\n",
    "- Conseils de rédaction du rapport\n",
    "- Conseils pour le rendu du code\n",
    "- Conseils pour la présentation\n",
    "- Conseils pour la tâche 4\n",
    "- Compléments et exercices selon demande\n",
    "- Questions / réponses"
   ]
  },
  {
   "cell_type": "markdown",
   "id": "13351918",
   "metadata": {
    "slideshow": {
     "slide_type": "slide"
    }
   },
   "source": [
    "## Conseils de rédaction du rapport"
   ]
  },
  {
   "cell_type": "markdown",
   "id": "0e211413",
   "metadata": {
    "slideshow": {
     "slide_type": "slide"
    }
   },
   "source": [
    "### Taille et format\n",
    "\n",
    "Formats de rendu autorisés\n",
    "- PDF (après conversion depuis un autre format : odt, docx, html, markdown...)\n",
    "- HTML\n",
    "- **Pas** au format ~~MS Word~~ (.doc, .docx)"
   ]
  },
  {
   "cell_type": "markdown",
   "id": "1f579143",
   "metadata": {
    "slideshow": {
     "slide_type": "subslide"
    }
   },
   "source": [
    "Logiciels recommandés :\n",
    "- [LibreOffice](https://www.libreoffice.org/) : suite bureautique libre et gratuite\n",
    "- Texte [MarkDown](https://fr.wikipedia.org/wiki/Markdown) + convertisseur (par exemple [pandoc](https://pandoc.org/))\n",
    "- IDE ou éditeur HTML + navigateur web"
   ]
  },
  {
   "cell_type": "markdown",
   "id": "7b2b0bb3",
   "metadata": {
    "slideshow": {
     "slide_type": "subslide"
    }
   },
   "source": [
    "Mise en page :\n",
    "- Longueur conseillée : 5 pages (hors page de garde, table des matières et annexe)\n",
    "- Structure claire : en-têtes de sections + table des matières"
   ]
  },
  {
   "cell_type": "markdown",
   "id": "eb05188d",
   "metadata": {
    "slideshow": {
     "slide_type": "slide"
    }
   },
   "source": [
    "### Contenu\n",
    "\n",
    "Fonctionnement de l'équipe et organisation du travail\n",
    "- Nom et groupe des membres de l'équipe de projet\n",
    "- Répartition du travail entre les membres (tâches)\n",
    "- Répartition du travail entre les membres (pourcentage)\n",
    "- Modalités d'organisation, fréquence des rencontres\n",
    "- Difficultés rencontrées"
   ]
  },
  {
   "cell_type": "markdown",
   "id": "50e124b8",
   "metadata": {
    "slideshow": {
     "slide_type": "subslide"
    }
   },
   "source": [
    "Guide d'utilisation du programme\n",
    "- Lancement\n",
    "- Paramètrage par variables globales\n",
    "- Utilisation des menus\n",
    "- Options en ligne de commande\n",
    "- Utilisation du jeu (clavier, souris, etc.)"
   ]
  },
  {
   "cell_type": "markdown",
   "id": "ad954113",
   "metadata": {
    "slideshow": {
     "slide_type": "subslide"
    }
   },
   "source": [
    "Avancement du projet\n",
    "- État d’avancement dans les tâches obligatoires\n",
    "- Bugs connus éventuels\n",
    "- Améliorations éventuelles\n",
    "- Informations **intéressantes** sur le code (algorithmes particuliers, choix de structures de données)\n",
    "- Ce qui vous plu ou déplu dans le projet"
   ]
  },
  {
   "cell_type": "markdown",
   "id": "e68d0b2b",
   "metadata": {
    "slideshow": {
     "slide_type": "slide"
    }
   },
   "source": [
    "## Conseils pour le rendu du code\n",
    "\n",
    "Préparation du rendu\n",
    "- Lire ou relire les grilles d'évaluation du projet\n",
    "- Vérifier le nommage correct des fichiers (`nim.py`, `fltk.py`, `rapport.html` ou `rapport.pdf`, plus fichiers annexes)\n",
    "- **PAS D'ARCHIVES !**\n",
    "- Vérifier (avant le rendu) le bon lancement du programme\n",
    "- Vérifier la présence des noms des membres dans chaque fichier de code"
   ]
  },
  {
   "cell_type": "markdown",
   "id": "82e66ae0",
   "metadata": {
    "slideshow": {
     "slide_type": "subslide"
    }
   },
   "source": [
    "Vérifications après le rendu\n",
    "- Re-télécharger depuis elearning dans un répertoire \"propre\"\n",
    "- Vérifier le bon fonctionnement du programme dans ce répertoire\n",
    "- Corriger le rendu si nécessaire"
   ]
  },
  {
   "cell_type": "markdown",
   "id": "daa0f161",
   "metadata": {
    "slideshow": {
     "slide_type": "slide"
    }
   },
   "source": [
    "## Conseils pour la présentation\n",
    "\n",
    "Objectif\n",
    "- Permettre au jury de se faire *rapidement* une idée juste de votre travail\n",
    "- Montrer tout ce qui selon vous a de l'intérêt dans votre projet"
   ]
  },
  {
   "cell_type": "markdown",
   "id": "b86a6230",
   "metadata": {
    "slideshow": {
     "slide_type": "subslide"
    }
   },
   "source": [
    "Interactions avec le jury\n",
    "- Pas un rôle passif : *vous* devez mener la partie présentation\n",
    "- Assurer la circulation de la parole\n",
    "- Chaque membre de l'équipe doit maîtriser l'ensemble du projet"
   ]
  },
  {
   "cell_type": "markdown",
   "id": "e7e198b3",
   "metadata": {
    "slideshow": {
     "slide_type": "subslide"
    }
   },
   "source": [
    "Préparation du lancement\n",
    "- Choisir un membre du projet pour exécuter le code\n",
    "- Choisir un support de présentation (machine personnelle ou machine de TP)\n",
    "- Télécharger le code depuis elearning dans un répertoire **facile d'accès**\n",
    "- Vérifier le bon lancement du programme"
   ]
  },
  {
   "cell_type": "markdown",
   "id": "11ff6284",
   "metadata": {
    "slideshow": {
     "slide_type": "subslide"
    }
   },
   "source": [
    "Choix du contenu de la présentation (suggestions)\n",
    "- Partie complète avec paramètres par défaut\n",
    "- Présentation des réglages possibles, menus, etc.\n",
    "- Démonstration des stratégies d'ordinateur implémentées\n",
    "- Présentation des améliorations éventuelles"
   ]
  },
  {
   "cell_type": "markdown",
   "id": "d7b8d52c",
   "metadata": {
    "slideshow": {
     "slide_type": "slide"
    }
   },
   "source": [
    "## Conseils pour la tâche 4"
   ]
  },
  {
   "cell_type": "markdown",
   "id": "e7ff95a7",
   "metadata": {
    "slideshow": {
     "slide_type": "subslide"
    }
   },
   "source": [
    "### Stratégie dans le jeu à une rangée\n",
    "\n",
    "(Mode normal, coups autorisés `[1, 2, 3]`)\n",
    "\n",
    "![](img/strategie-une-rangee.png)"
   ]
  },
  {
   "cell_type": "markdown",
   "id": "138bcc04",
   "metadata": {
    "slideshow": {
     "slide_type": "subslide"
    }
   },
   "source": [
    "On observe (et on peut prouver) que depuis toute situation où il ne reste **pas** un multiple de 4 allumettes, le joueur qui commence peut gagner à coup sûr\n",
    "\n",
    "Stratégie gagnante :\n",
    "- S'il reste $4k + r$ allumettes avec $1 \\leq r \\leq 3$, en retirer $r$ pour arriver à $4k$\n",
    "- Quel que soit le coup suivant de l'adversaire, le nombre restant est de la forme $4 k' + r'$\n",
    "\n",
    "Par exemple, depuis 21 le premier joueur est sûr de pouvoir gagner, depuis 20 il ne peut pas en être sûr"
   ]
  },
  {
   "cell_type": "markdown",
   "id": "6f8bedf6",
   "metadata": {
    "slideshow": {
     "slide_type": "slide"
    }
   },
   "source": [
    "### Stratégie dans le jeu à plusieurs rangées\n",
    "\n",
    "(Mode normal, pas de limite de coup)\n",
    "\n",
    "![](img/decomposition-marienbad.png)"
   ]
  },
  {
   "cell_type": "markdown",
   "id": "be88887e",
   "metadata": {
    "slideshow": {
     "slide_type": "subslide"
    }
   },
   "source": [
    "On observe (et on peut prouver) que depuis toute situation où il ne reste **pas** un nombre pair de blocs de chaque couleur, le joueur qui commence peut gagner à coup sûr\n",
    "\n",
    "Stratégie gagnante : jouer un coup qui rend pair le nombre de blocs de chaque couleur (on peut prouver que c'est toujours possible)\n",
    "\n",
    "Par exemple, depuis (7-5-3-1) le premier joueur ne peut pas être sûr de gagner, depuis (6-5-3-1) il peut gagner à coup sûr (il suffit de retirer une allumette quelque part)"
   ]
  },
  {
   "cell_type": "markdown",
   "id": "59c3ed85",
   "metadata": {
    "slideshow": {
     "slide_type": "slide"
    }
   },
   "source": [
    "## Divers\n",
    "\n",
    "Questions ?\n",
    "\n",
    "Exercices ?\n",
    "\n",
    "Du temps pour travailler ?"
   ]
  },
  {
   "cell_type": "code",
   "execution_count": null,
   "id": "1d77d4bb",
   "metadata": {},
   "outputs": [],
   "source": []
  }
 ],
 "metadata": {
  "celltoolbar": "Diaporama",
  "kernelspec": {
   "display_name": "Python 3 (ipykernel)",
   "language": "python",
   "name": "python3"
  },
  "language_info": {
   "codemirror_mode": {
    "name": "ipython",
    "version": 3
   },
   "file_extension": ".py",
   "mimetype": "text/x-python",
   "name": "python",
   "nbconvert_exporter": "python",
   "pygments_lexer": "ipython3",
   "version": "3.9.9"
  }
 },
 "nbformat": 4,
 "nbformat_minor": 5
}
