{
 "cells": [
  {
   "cell_type": "markdown",
   "id": "eac8b019",
   "metadata": {
    "slideshow": {
     "slide_type": "slide"
    }
   },
   "source": [
    "<div style=\"align:center; font-size:large\">\n",
    "    <img src='img/logo-igm.png' width=50%>\n",
    "</div>\n",
    "\n",
    "**L1 Mathématiques - L1 Informatique — Semestre 1**\n",
    "\n",
    "# Projet 1 - Cours du 13/12/2021"
   ]
  },
  {
   "cell_type": "code",
   "execution_count": 3,
   "id": "2262cef1",
   "metadata": {
    "slideshow": {
     "slide_type": "skip"
    }
   },
   "outputs": [],
   "source": [
    "%load_ext nbtutor"
   ]
  },
  {
   "cell_type": "markdown",
   "id": "7fe330fc",
   "metadata": {
    "slideshow": {
     "slide_type": "slide"
    }
   },
   "source": [
    "## Contenu du cours (indicatif)"
   ]
  },
  {
   "cell_type": "markdown",
   "id": "4cc59ec5",
   "metadata": {
    "slideshow": {
     "slide_type": "subslide"
    }
   },
   "source": [
    "Cours 2\n",
    "- Complément de cours : types mutables et immutables\n",
    "- Complément de cours : chaînes\n",
    "- Complément de cours : `fltk`\n",
    "- Questions / réponses"
   ]
  },
  {
   "cell_type": "markdown",
   "id": "6b2a6446",
   "metadata": {
    "slideshow": {
     "slide_type": "subslide"
    }
   },
   "source": [
    "Cours 3\n",
    "- Conseils de rédaction du rapport\n",
    "- Conseils pour la soutenance\n",
    "- Compléments et exercices selon demande\n",
    "- Questions / réponses"
   ]
  },
  {
   "cell_type": "markdown",
   "id": "28241ee1",
   "metadata": {
    "slideshow": {
     "slide_type": "slide"
    }
   },
   "source": [
    "## Mutables et non mutables"
   ]
  },
  {
   "cell_type": "markdown",
   "id": "32b7994b",
   "metadata": {
    "slideshow": {
     "slide_type": "subslide"
    }
   },
   "source": [
    "### Les listes sont mutables\n",
    "\n",
    "Les **listes** sont des objets **mutables** : on peut modifier leur contenu *sur place* (sans créer une nouvelle liste)"
   ]
  },
  {
   "cell_type": "code",
   "execution_count": 4,
   "id": "afc02863",
   "metadata": {
    "slideshow": {
     "slide_type": "subslide"
    }
   },
   "outputs": [
    {
     "name": "nbtutor",
     "output_type": "stream",
     "text": []
    }
   ],
   "source": [
    "%%nbtutor -r -f\n",
    "lst = [5,4,3,2,1]\n",
    "lst2 = lst\n",
    "lst[0] = 9\n",
    "print(lst2)"
   ]
  },
  {
   "cell_type": "markdown",
   "id": "40d670ac",
   "metadata": {
    "slideshow": {
     "slide_type": "-"
    }
   },
   "source": [
    "C'est `lst[0]` qui désigne une nouvelle valeur (ici 9), `lst` n'a pas changé !"
   ]
  },
  {
   "cell_type": "code",
   "execution_count": 5,
   "id": "27dc9567",
   "metadata": {
    "slideshow": {
     "slide_type": "subslide"
    }
   },
   "outputs": [
    {
     "data": {
      "text/plain": [
       "(['a', 'b', 'c', 'd'], ['a', 'b', 'c', 'd'])"
      ]
     },
     "execution_count": 5,
     "metadata": {},
     "output_type": "execute_result"
    }
   ],
   "source": [
    "# %%nbtutor -r -f\n",
    "lst1 = ['a', 'b', 'c']\n",
    "lst2 = lst1  # aliasing !\n",
    "lst1.append('d')\n",
    "lst1, lst2"
   ]
  },
  {
   "cell_type": "markdown",
   "id": "3c28b71b",
   "metadata": {
    "slideshow": {
     "slide_type": "slide"
    }
   },
   "source": [
    "#### Exercice\n",
    "\n",
    "1. Écrire une fonction recevant une liste et renvoyant la liste inversée *sans modifier la liste initiale*\n",
    "2. Écrire une fonction recevant une liste et inversant l'ordre de ses éléments *sur place*"
   ]
  },
  {
   "cell_type": "code",
   "execution_count": 7,
   "id": "471d3ef9",
   "metadata": {
    "slideshow": {
     "slide_type": "subslide"
    }
   },
   "outputs": [
    {
     "data": {
      "text/plain": [
       "([3, 2, 1], [1, 2, 3])"
      ]
     },
     "execution_count": 7,
     "metadata": {},
     "output_type": "execute_result"
    }
   ],
   "source": [
    "def liste_inversee(lst):\n",
    "    \"\"\"\n",
    "    Renvoie une liste contenant les éléments de lst dans l'ordre inverse.\n",
    "    \n",
    "    >>> liste_inversee([1, 2, 3])\n",
    "    [3, 2, 1]\n",
    "    \"\"\"\n",
    "    res = []\n",
    "    for i in range(1, len(lst)+1):\n",
    "        elem = lst[len(lst)-i]\n",
    "        res.append(elem)\n",
    "    return res\n",
    "\n",
    "test = [1, 2, 3]\n",
    "liste_inversee(test), test"
   ]
  },
  {
   "cell_type": "code",
   "execution_count": 8,
   "id": "932b6f99",
   "metadata": {
    "slideshow": {
     "slide_type": "subslide"
    }
   },
   "outputs": [
    {
     "data": {
      "text/plain": [
       "([3, 2, 1], [])"
      ]
     },
     "execution_count": 8,
     "metadata": {},
     "output_type": "execute_result"
    }
   ],
   "source": [
    "def liste_inversee_2(lst):\n",
    "    \"\"\"\n",
    "    Renvoie une liste contenant les éléments de lst dans l'ordre inverse.\n",
    "    \n",
    "    Cette fonction est-elle correcte ???\n",
    "    \"\"\"\n",
    "    res = []\n",
    "    while len(lst) > 0:\n",
    "        res.append(lst.pop())\n",
    "    return res\n",
    "\n",
    "test = [1, 2, 3]\n",
    "liste_inversee_2(test), test"
   ]
  },
  {
   "cell_type": "code",
   "execution_count": 13,
   "id": "19602a1b",
   "metadata": {
    "slideshow": {
     "slide_type": "subslide"
    }
   },
   "outputs": [
    {
     "data": {
      "text/plain": [
       "([3, 2, 1], [1, 2, 3])"
      ]
     },
     "execution_count": 13,
     "metadata": {},
     "output_type": "execute_result"
    }
   ],
   "source": [
    "def liste_inversee_3(lst):\n",
    "    \"\"\"\n",
    "    Renvoie une liste contenant les éléments de lst dans l'ordre inverse.\n",
    "    \n",
    "    Cette fonction est-elle correcte ???\n",
    "    \"\"\"\n",
    "    lst = lst.copy()\n",
    "    lst.reverse()\n",
    "    return lst\n",
    "\n",
    "test = [1, 2, 3]\n",
    "liste_inversee_3(test), test"
   ]
  },
  {
   "cell_type": "code",
   "execution_count": 16,
   "id": "786deabc",
   "metadata": {
    "slideshow": {
     "slide_type": "subslide"
    }
   },
   "outputs": [
    {
     "data": {
      "text/plain": [
       "[4, 3, 2, 1]"
      ]
     },
     "execution_count": 16,
     "metadata": {},
     "output_type": "execute_result"
    }
   ],
   "source": [
    "def inverse_sur_place(lst):\n",
    "    \"\"\"\n",
    "    Inverse l'ordre des éléments de lst.\n",
    "    \n",
    "    Tests ??\n",
    "    \"\"\"\n",
    "    for i in range(len(lst)//2):\n",
    "        lst[i], lst[len(lst)-(i+1)] = lst[len(lst)-(i+1)], lst[i]\n",
    "\n",
    "test = [1, 2, 3, 4]\n",
    "inverse_sur_place(test)\n",
    "test"
   ]
  },
  {
   "cell_type": "markdown",
   "id": "a0010a70",
   "metadata": {
    "slideshow": {
     "slide_type": "subslide"
    }
   },
   "source": [
    "#### À retenir\n",
    "\n",
    "- Une liste peut être modifiée sur place\n",
    "- Une liste passée en paramètre à une fonction *peut* être modifiée par la fonction\n",
    "- Une fonction ne doit pas modifier accidentellement une liste !!"
   ]
  },
  {
   "cell_type": "markdown",
   "id": "197281d3",
   "metadata": {
    "slideshow": {
     "slide_type": "slide"
    }
   },
   "source": [
    "### Les autres types (vus en cours) sont immutables\n",
    "\n",
    "Les chaines (`str`), les nombres (`int`, `float`), les valeurs de vérité (`bool`), les `tuple` et les `range` sont **immutables**."
   ]
  },
  {
   "cell_type": "markdown",
   "id": "833f47e3",
   "metadata": {
    "slideshow": {
     "slide_type": "subslide"
    }
   },
   "source": [
    "#### Les `int` sont immutables\n",
    "\n",
    "Toutes les opérations sur les `int` créent de nouveaux objets."
   ]
  },
  {
   "cell_type": "code",
   "execution_count": 17,
   "id": "37d3da70",
   "metadata": {
    "slideshow": {
     "slide_type": "-"
    }
   },
   "outputs": [
    {
     "name": "nbtutor",
     "output_type": "stream",
     "text": []
    }
   ],
   "source": [
    "%%nbtutor -r -f \n",
    "a = 1\n",
    "b = a\n",
    "a += 1\n",
    "a, b"
   ]
  },
  {
   "cell_type": "markdown",
   "id": "7b8e7e98",
   "metadata": {
    "slideshow": {
     "slide_type": "subslide"
    }
   },
   "source": [
    "#### Exercice\n",
    "\n",
    "Écrire une fonction recevant deux entiers `a` et `b` intervertissant leurs valeurs."
   ]
  },
  {
   "cell_type": "markdown",
   "id": "d4cd196a",
   "metadata": {
    "slideshow": {
     "slide_type": "subslide"
    }
   },
   "source": [
    "*Cet exercice n'a pas de sens !!* On ne peut pas intervertir les valeurs de deux objets de type `int`.\n",
    "- On peut seulement intervertir les objets que désignent deux variables.\n",
    "- Variables locales : modifications locales à la fonction\n",
    "- Variables globales : modifications qui perdurent hors de la fonction"
   ]
  },
  {
   "cell_type": "code",
   "execution_count": 19,
   "id": "fb10adf9",
   "metadata": {
    "slideshow": {
     "slide_type": "subslide"
    }
   },
   "outputs": [
    {
     "name": "nbtutor",
     "output_type": "stream",
     "text": []
    }
   ],
   "source": [
    "%%nbtutor -r -f\n",
    "def intervertir(a, b):\n",
    "    a, b = b, a\n",
    "    \n",
    "a, b = 1, 2\n",
    "intervertir(a, b)\n",
    "a, b"
   ]
  },
  {
   "cell_type": "code",
   "execution_count": 20,
   "id": "a0ae048a",
   "metadata": {
    "slideshow": {
     "slide_type": "subslide"
    }
   },
   "outputs": [
    {
     "data": {
      "text/plain": [
       "(2, 1)"
      ]
     },
     "execution_count": 20,
     "metadata": {},
     "output_type": "execute_result"
    }
   ],
   "source": [
    "def intervertir():  # pas de paramètre !!!\n",
    "    global a, b\n",
    "    a, b = b, a\n",
    "    \n",
    "a, b = 1, 2\n",
    "intervertir()  # pas de paramètre !!!\n",
    "a, b"
   ]
  },
  {
   "cell_type": "markdown",
   "id": "fe71242a",
   "metadata": {
    "slideshow": {
     "slide_type": "-"
    }
   },
   "source": [
    "**Attention !** Style de code vilain, fragile et probablement inutile"
   ]
  },
  {
   "cell_type": "markdown",
   "id": "9da1bf8e",
   "metadata": {
    "slideshow": {
     "slide_type": "subslide"
    }
   },
   "source": [
    "#### Les `str` sont immutables\n",
    "\n",
    "Toutes les opérations sur les `str` créent de nouvelles chaines."
   ]
  },
  {
   "cell_type": "code",
   "execution_count": 21,
   "id": "678fd626",
   "metadata": {
    "slideshow": {
     "slide_type": "-"
    }
   },
   "outputs": [
    {
     "data": {
      "text/plain": [
       "('BONJOUR', 'bonjour')"
      ]
     },
     "execution_count": 21,
     "metadata": {},
     "output_type": "execute_result"
    }
   ],
   "source": [
    "# %%nbtutor -r -f\n",
    "m = \"bonjour\"\n",
    "n = m\n",
    "m = m.upper()\n",
    "m, n"
   ]
  },
  {
   "cell_type": "markdown",
   "id": "205386e3",
   "metadata": {
    "slideshow": {
     "slide_type": "subslide"
    }
   },
   "source": [
    "#### Les `tuple` sont immutables\n",
    "\n",
    "```python\n",
    "def fonction_suspecte(argument):\n",
    "    ...  # je ne sais pas ce qu'il y a ici\n",
    "    \n",
    "tpl = (1, 3, 5, 7)\n",
    "fonction_suspecte(tpl)\n",
    "print(tpl)\n",
    "```\n",
    "\n",
    "Peu importe ce que fait `fonction_suspecte`, je suis **sûr** que `tpl` n'a pas changé parce qu'un `tuple` est immutable !"
   ]
  },
  {
   "cell_type": "code",
   "execution_count": null,
   "id": "6b1ea2aa",
   "metadata": {
    "slideshow": {
     "slide_type": "subslide"
    }
   },
   "outputs": [],
   "source": [
    "origine = (0, 0)\n",
    "origine[1] = 42  # erreur : non-mutable"
   ]
  },
  {
   "cell_type": "code",
   "execution_count": null,
   "id": "3f113925",
   "metadata": {
    "slideshow": {
     "slide_type": "subslide"
    }
   },
   "outputs": [],
   "source": [
    "origine.append(0)"
   ]
  },
  {
   "cell_type": "code",
   "execution_count": null,
   "id": "f2977038",
   "metadata": {
    "scrolled": true,
    "slideshow": {
     "slide_type": "subslide"
    }
   },
   "outputs": [],
   "source": [
    "dir(origine)"
   ]
  },
  {
   "cell_type": "markdown",
   "id": "071059a4",
   "metadata": {
    "slideshow": {
     "slide_type": "slide"
    }
   },
   "source": [
    "## Complément de cours : chaînes\n",
    "\n",
    "Les chaînes de caractères (`str`) sont des **séquences itérables** dont les éléments sont des caractères.\n",
    "\n",
    "Les `str` sont **non mutables** c'est à dire qu'on ne peut pas changer leur contenu. Ils interdisent l'affectation (`s[i] = x`), ainsi que\n",
    "`s.append('a')`, `s1.extend(s2)`, `s.insert(i, x)`, `s.pop()`, `s.pop(i)`, `s.remove(x)`, `s.clear()`, \n",
    "`s.reverse()`, ..."
   ]
  },
  {
   "cell_type": "markdown",
   "id": "28aa894a",
   "metadata": {
    "slideshow": {
     "slide_type": "subslide"
    }
   },
   "source": [
    "Les chaînes autorisent :\n",
    "  \n",
    "- `s[i]` : accès à un caractère par son indice\n",
    "- `len(s)` :  longueur\n",
    "- `min(s)`, `max(s)` : minimum et maximum\n",
    "- `s1 in s2`, `s1 not in s2` : recherche de sous-chaîne\n",
    "- `s2.index(s1)` : position de sous-chaîne\n",
    "- `s2.count(s1)` : comptage de sous-chaînes\n",
    "- `s1 + s2`, `s * 3` : concaténation et répétition"
   ]
  },
  {
   "cell_type": "markdown",
   "id": "ec138abf",
   "metadata": {
    "slideshow": {
     "slide_type": "subslide"
    }
   },
   "source": [
    "En tant qu'objets **itérables**, les chaînes peuvent être utilisées dans des\n",
    "boucles `for` :"
   ]
  },
  {
   "cell_type": "code",
   "execution_count": null,
   "id": "819c3f71",
   "metadata": {
    "slideshow": {
     "slide_type": "-"
    }
   },
   "outputs": [],
   "source": [
    "s = 'shrubbery'\n",
    "for c in s:\n",
    "    print(c)"
   ]
  },
  {
   "cell_type": "markdown",
   "id": "4ca94df2",
   "metadata": {
    "slideshow": {
     "slide_type": "subslide"
    }
   },
   "source": [
    "... et acceptent la conversion en liste :"
   ]
  },
  {
   "cell_type": "code",
   "execution_count": null,
   "id": "72a28b09",
   "metadata": {
    "slideshow": {
     "slide_type": "-"
    }
   },
   "outputs": [],
   "source": [
    "s = 'shrubbery'\n",
    "list(s)"
   ]
  },
  {
   "cell_type": "markdown",
   "id": "b0c4353a",
   "metadata": {
    "slideshow": {
     "slide_type": "subslide"
    }
   },
   "source": [
    "### Méthodes sur les chaînes\n",
    "\n",
    "De très nombreuses méthodes existent sur les chaînes qui renvoient toutes une nouvelle chaîne:"
   ]
  },
  {
   "cell_type": "code",
   "execution_count": null,
   "id": "512b3347",
   "metadata": {
    "slideshow": {
     "slide_type": "subslide"
    }
   },
   "outputs": [],
   "source": [
    "s='monty python and the holy grail'\n",
    "print(s.title()) # renvoie une nouvelle chaine\n",
    "print(s) # str est non mutable, s n'a donc pas été modifiée"
   ]
  },
  {
   "cell_type": "code",
   "execution_count": null,
   "id": "f8552123",
   "metadata": {
    "slideshow": {
     "slide_type": "subslide"
    }
   },
   "outputs": [],
   "source": [
    "print(s.find(\"grail\"))"
   ]
  },
  {
   "cell_type": "code",
   "execution_count": null,
   "id": "f7e1cde1",
   "metadata": {
    "slideshow": {
     "slide_type": "subslide"
    }
   },
   "outputs": [],
   "source": [
    "\" \".join([\"what\", \"is\", \"your\", \"quest?\"])"
   ]
  },
  {
   "cell_type": "code",
   "execution_count": null,
   "id": "5484bc3b",
   "metadata": {
    "slideshow": {
     "slide_type": "subslide"
    }
   },
   "outputs": [],
   "source": [
    "\"-\".join([\"ekke\", \"ekke\", \"ekke\", \"p'tang\"])"
   ]
  },
  {
   "cell_type": "markdown",
   "id": "9c54ec62",
   "metadata": {
    "slideshow": {
     "slide_type": "-"
    }
   },
   "source": [
    "[source](https://www.youtube.com/watch?v=RZvsGdJP3ng)"
   ]
  },
  {
   "cell_type": "code",
   "execution_count": null,
   "id": "5e9c64c1",
   "metadata": {
    "slideshow": {
     "slide_type": "subslide"
    }
   },
   "outputs": [],
   "source": [
    "print(s.split(' '))"
   ]
  },
  {
   "cell_type": "code",
   "execution_count": null,
   "id": "d38078ff",
   "metadata": {
    "slideshow": {
     "slide_type": "-"
    }
   },
   "outputs": [],
   "source": [
    "print(s.split('th'))"
   ]
  },
  {
   "cell_type": "markdown",
   "id": "19d59091",
   "metadata": {
    "slideshow": {
     "slide_type": "slide"
    }
   },
   "source": [
    "### Formatage de chaînes\n",
    "\n",
    "Il existe plusieurs méthodes pour formatter une chaîne mêlant du texte et des valeurs\n",
    "\n",
    "Technique recommandée : [chaînes formatées littérales](https://docs.python.org/fr/3/reference/lexical_analysis.html#f-strings) ou *f-strings* (depuis Python 3.6)"
   ]
  },
  {
   "cell_type": "code",
   "execution_count": 22,
   "id": "a3b8039a",
   "metadata": {
    "slideshow": {
     "slide_type": "subslide"
    }
   },
   "outputs": [
    {
     "name": "stdout",
     "output_type": "stream",
     "text": [
      "Sir Lancelot, the brave\n"
     ]
    }
   ],
   "source": [
    "title = 'Sir'\n",
    "name = 'Lancelot'\n",
    "quality = 'the brave'\n",
    "\n",
    "print(f'{title} {name}, {quality}')"
   ]
  },
  {
   "cell_type": "code",
   "execution_count": 23,
   "id": "bb60dbc5",
   "metadata": {
    "slideshow": {
     "slide_type": "subslide"
    }
   },
   "outputs": [
    {
     "name": "stdout",
     "output_type": "stream",
     "text": [
      "Comment t'appelles-tu ? Machin\n",
      "Bonjour Machin !\n"
     ]
    }
   ],
   "source": [
    "nom = input(\"Comment t'appelles-tu ? \")\n",
    "print(f'Bonjour {nom} !')"
   ]
  },
  {
   "cell_type": "markdown",
   "id": "add6e89d",
   "metadata": {
    "slideshow": {
     "slide_type": "subslide"
    }
   },
   "source": [
    "Cette syntaxe fonctionne aussi avec des valeurs de types différents !"
   ]
  },
  {
   "cell_type": "code",
   "execution_count": 24,
   "id": "2ceb8d10",
   "metadata": {
    "slideshow": {
     "slide_type": "-"
    }
   },
   "outputs": [
    {
     "name": "stdout",
     "output_type": "stream",
     "text": [
      "Clic gauche au point (15, 20)\n"
     ]
    }
   ],
   "source": [
    "x, y = 15, 20\n",
    "message = f\"Clic gauche au point ({x}, {y})\"\n",
    "print(message)"
   ]
  },
  {
   "cell_type": "markdown",
   "id": "20fcf30c",
   "metadata": {
    "slideshow": {
     "slide_type": "subslide"
    }
   },
   "source": [
    "Il existe de nombreux réglages possibles (précision, format...)"
   ]
  },
  {
   "cell_type": "code",
   "execution_count": 27,
   "id": "eff000a8",
   "metadata": {
    "slideshow": {
     "slide_type": "-"
    }
   },
   "outputs": [
    {
     "name": "stdout",
     "output_type": "stream",
     "text": [
      "nombre de décimales à afficher : 4\n",
      "valeur de π arrondie à 4 décimales : 3.1416\n"
     ]
    }
   ],
   "source": [
    "from math import pi\n",
    "prec = int(input('nombre de décimales à afficher : '))\n",
    "print(f'valeur de π arrondie à {prec} décimales : {pi:.{prec}f}')"
   ]
  },
  {
   "cell_type": "markdown",
   "id": "4270a24f",
   "metadata": {
    "slideshow": {
     "slide_type": "slide"
    }
   },
   "source": [
    "## Complément de cours : `fltk`"
   ]
  },
  {
   "cell_type": "markdown",
   "id": "a4980ac4",
   "metadata": {
    "slideshow": {
     "slide_type": "subslide"
    }
   },
   "source": [
    "### Documentation en ligne\n",
    "\n",
    "https://antoinemeyer.frama.io/fltk/"
   ]
  },
  {
   "cell_type": "markdown",
   "id": "2cade7ab",
   "metadata": {
    "slideshow": {
     "slide_type": "subslide"
    }
   },
   "source": [
    "### Programme-type\n",
    "\n",
    "[demo.py](http://localhost:8888/edit/demo.py)  \n",
    "[terminal](http://localhost:8888/terminals/1)"
   ]
  },
  {
   "cell_type": "markdown",
   "id": "4302a621",
   "metadata": {
    "slideshow": {
     "slide_type": "subslide"
    }
   },
   "source": [
    "### Exercice\n",
    "\n",
    "En s'inspirant du programme précédent, écrire un programme utilisant `fltk` qui :\n",
    "- dessine un quadrillage de `nb_lignes` par `nb_colonnes` cases sur l'ensemble de la fenêtre\n",
    "- à chaque clic de souris, affiche un message indiquant le numéro de ligne et de colonne de la case cliquée\n",
    "\n",
    "On utilisera à bon escient fonctions et variables globales"
   ]
  }
 ],
 "metadata": {
  "celltoolbar": "Visualize",
  "kernelspec": {
   "display_name": "Python 3 (ipykernel)",
   "language": "python",
   "name": "python3"
  },
  "language_info": {
   "codemirror_mode": {
    "name": "ipython",
    "version": 3
   },
   "file_extension": ".py",
   "mimetype": "text/x-python",
   "name": "python",
   "nbconvert_exporter": "python",
   "pygments_lexer": "ipython3",
   "version": "3.9.9"
  }
 },
 "nbformat": 4,
 "nbformat_minor": 5
}
