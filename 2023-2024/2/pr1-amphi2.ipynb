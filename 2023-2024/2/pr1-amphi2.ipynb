{
 "cells": [
  {
   "cell_type": "markdown",
   "metadata": {
    "slideshow": {
     "slide_type": "slide"
    }
   },
   "source": [
    "<div style=\"align:center; font-size:large\">\n",
    "    <img src='../img/logo-igm.png' width=50%>\n",
    "</div>\n",
    "\n",
    "**L1 Mathématiques - L1 Informatique — Semestre 1**\n",
    "\n",
    "# Projet 1 - Cours du 11/12/2023"
   ]
  },
  {
   "cell_type": "markdown",
   "metadata": {
    "slideshow": {
     "slide_type": "slide"
    }
   },
   "source": [
    "## Documenter son code : *docstrings* et *doctests*\n",
    "\n",
    "Exemple : le jeu de retournement (partie *modèle*)"
   ]
  },
  {
   "cell_type": "code",
   "execution_count": 1,
   "metadata": {
    "slideshow": {
     "slide_type": "subslide"
    }
   },
   "outputs": [],
   "source": [
    "def init_plateau(taille):\n",
    "    \"\"\"\n",
    "    Initialise un plateau éteint de taille x taille cases.\n",
    "    \n",
    "    Le plateau est représenté par une liste de listes\n",
    "    de booléens (ligne par ligne). La valeur False correspond\n",
    "    à une case éteinte.\n",
    "    \n",
    "    Paramètres :\n",
    "    - taille (int) : nombre de lignes et de colonnes\n",
    "    - ...\n",
    "    \n",
    "    Résultat :\n",
    "    - un plateau éteint (liste de liste de bool)\n",
    "    \n",
    "    Effets secondaires (effets de bord) :\n",
    "    - aucun\n",
    "    \n",
    "    >>> init_plateau(0)\n",
    "    []\n",
    "    >>> init_plateau(2)\n",
    "    [[False, False], [False, False]]\n",
    "    \"\"\"\n",
    "    plateau = []\n",
    "    for _ in range(taille):\n",
    "        plateau.append([False] * taille)\n",
    "    return plateau"
   ]
  },
  {
   "cell_type": "code",
   "execution_count": null,
   "metadata": {
    "slideshow": {
     "slide_type": "subslide"
    }
   },
   "outputs": [],
   "source": [
    "def voisines(i,  j, taille):\n",
    "    \"\"\"\n",
    "    Détermine les cases voisines de la case (i, j)\n",
    "    dans un plateau de (taille x taille) cases.\n",
    "    \n",
    "    Les cases voisines sont renvoyées sous la forme d'une\n",
    "    liste de couples (ligne, colonne). Les cases qui sortent\n",
    "    du plateau (ligne ou colonne < 0 ou >= taille) ne sont pas\n",
    "    incluses.\n",
    "    \n",
    "    Paramètres :\n",
    "    - i (int) : numéro de ligne\n",
    "    - j (int) : numéro de colonne\n",
    "    - taille (int) : taille de la grille\n",
    "    \n",
    "    Résultat :\n",
    "    - liste des cases voisines (list de (int, int))\n",
    "    \n",
    "    Exemples :\n",
    "    >>> voisines(0, 0, 1)\n",
    "    []\n",
    "    >>> voisines(0, 0, 2)\n",
    "    [(1, 0), (0, 1)]\n",
    "    >>> voisines(2, 3, 5)\n",
    "    [(1, 3), (2, 2), (3, 3), (2, 4)]\n",
    "    \n",
    "    \"\"\"\n",
    "    cases = []\n",
    "    if i > 0:\n",
    "        cases.append((i-1, j))\n",
    "    if j > 0:\n",
    "        cases.append((i, j-1))\n",
    "    if i < taille-1:\n",
    "        cases.append((i+1, j))\n",
    "    if j < taille-1:\n",
    "        cases.append((i, j+1))\n",
    "    return cases"
   ]
  },
  {
   "cell_type": "markdown",
   "metadata": {},
   "source": [
    "Pour lancer tous les tests :"
   ]
  },
  {
   "cell_type": "code",
   "execution_count": null,
   "metadata": {},
   "outputs": [],
   "source": [
    "from doctest import testmod\n",
    "testmod()"
   ]
  },
  {
   "cell_type": "markdown",
   "metadata": {
    "slideshow": {
     "slide_type": "slide"
    }
   },
   "source": [
    "## Complément de cours : Itérables"
   ]
  },
  {
   "cell_type": "markdown",
   "metadata": {
    "slideshow": {
     "slide_type": "-"
    }
   },
   "source": [
    "Le [glossaire Python](https://docs.python.org/fr/3/glossary.html#term-iterable) définit **itérable** comme:\n",
    "\n",
    "> Objet capable de renvoyer ses éléments un à un.\n",
    "\n",
    "Par exemple, les `list` et les `str` sont des *itérables*, ainsi que les `tuple` et les objets renvoyés par la fonction `range`."
   ]
  },
  {
   "cell_type": "markdown",
   "metadata": {
    "slideshow": {
     "slide_type": "subslide"
    }
   },
   "source": [
    "Le principal intérêt d'un *itérable* est qu'on peut l'utiliser dans une boucle `for` pour parcourir ses éléments un par un. Par exemple pour une liste :"
   ]
  },
  {
   "cell_type": "code",
   "execution_count": 1,
   "metadata": {
    "slideshow": {
     "slide_type": "-"
    }
   },
   "outputs": [
    {
     "name": "stdout",
     "output_type": "stream",
     "text": [
      "a\n",
      "b\n",
      "c\n"
     ]
    }
   ],
   "source": [
    "lst = ['a', 'b', 'c']\n",
    "for element in lst:\n",
    "    print(element)"
   ]
  },
  {
   "cell_type": "markdown",
   "metadata": {
    "slideshow": {
     "slide_type": "subslide"
    }
   },
   "source": [
    "Vous avez déjà rencontré des boucles de cette forme utilisant la fonction `range` :"
   ]
  },
  {
   "cell_type": "code",
   "execution_count": 2,
   "metadata": {
    "slideshow": {
     "slide_type": "-"
    }
   },
   "outputs": [
    {
     "name": "stdout",
     "output_type": "stream",
     "text": [
      "0\n",
      "1\n",
      "2\n"
     ]
    }
   ],
   "source": [
    "for i in range(3):\n",
    "    print(i)"
   ]
  },
  {
   "cell_type": "markdown",
   "metadata": {
    "slideshow": {
     "slide_type": "subslide"
    }
   },
   "source": [
    "Cela fonctionne parce que `range` renvoie un objet **itérable** (de type... `range`)"
   ]
  },
  {
   "cell_type": "code",
   "execution_count": 3,
   "metadata": {
    "slideshow": {
     "slide_type": "-"
    }
   },
   "outputs": [
    {
     "data": {
      "text/plain": [
       "range"
      ]
     },
     "execution_count": 3,
     "metadata": {},
     "output_type": "execute_result"
    }
   ],
   "source": [
    "type(range(10))"
   ]
  },
  {
   "cell_type": "markdown",
   "metadata": {
    "slideshow": {
     "slide_type": "subslide"
    }
   },
   "source": [
    "**Exercice :** Écrire une fonction `affiche` qui reçoit un itérable `elems` et affiche ses éléments (un par ligne) à l'aide d'une boucle `for`, et la tester avec divers itérables (de type `list`, `tuple`, `str` et `range`)"
   ]
  },
  {
   "cell_type": "code",
   "execution_count": 8,
   "metadata": {
    "slideshow": {
     "slide_type": "fragment"
    }
   },
   "outputs": [
    {
     "name": "stdout",
     "output_type": "stream",
     "text": [
      "1\n",
      "2\n",
      "3\n",
      "4\n"
     ]
    }
   ],
   "source": [
    "def affiche(elems):\n",
    "    for elem in elems:\n",
    "        print(elem)\n",
    "        \n",
    "affiche((1, 2, 3, 4))"
   ]
  },
  {
   "cell_type": "markdown",
   "metadata": {
    "slideshow": {
     "slide_type": "subslide"
    }
   },
   "source": [
    "**Exercice :** Écrire une fonction `appartient` qui reçoit un itérable `elems` et une valeur `x` et renvoie `True` si `x` est un élément de `elems` et `False` sinon, et la tester avec divers itérables (de type `list`, `tuple`, `str` et `range`).\n",
    "\n",
    "*Remarque : cette fonctionnalité existe en Python (opérateur `in`)*\n",
    "\n",
    "*Contraintes :* boucle `for`, pas de `range`, pas de test `x in elems`"
   ]
  },
  {
   "cell_type": "code",
   "execution_count": 12,
   "metadata": {
    "slideshow": {
     "slide_type": "fragment"
    }
   },
   "outputs": [
    {
     "data": {
      "text/plain": [
       "False"
      ]
     },
     "execution_count": 12,
     "metadata": {},
     "output_type": "execute_result"
    }
   ],
   "source": [
    "def appartient(elems, x):\n",
    "    for elem in elems:\n",
    "        if elem == x:\n",
    "            return True\n",
    "    return False  # SURTOUT PAS dans la boucle !!!!!\n",
    "\n",
    "appartient(\"bonjour\", \"jour\")"
   ]
  },
  {
   "cell_type": "markdown",
   "metadata": {
    "slideshow": {
     "slide_type": "slide"
    }
   },
   "source": [
    "### Que peut-on faire d'autre avec un itérable ?\n",
    "\n",
    "N'importe quel itérable permet aussi, entre autres :\n",
    "- de créer une liste avec `list(elems)` ou un tuple avec `tuple(elems)`\n",
    "- de tester l'appartenance d'un élément avec `x in elems` et `x not in elems`\n",
    "- *hors programme:* d'utiliser toute fonction recevant en paramètre un ou plusieurs itérables (comme `sum`, `min`, `max`, `any`, `all`, `zip`, `map`, `filter`, `sorted`, etc.)\n",
    "- *hors programme:* d'écrire une *mutation de liste*"
   ]
  },
  {
   "cell_type": "code",
   "execution_count": 14,
   "metadata": {
    "slideshow": {
     "slide_type": "subslide"
    }
   },
   "outputs": [
    {
     "data": {
      "text/plain": [
       "['b', 'o', 'n', 'j', 'o', 'u', 'r']"
      ]
     },
     "execution_count": 14,
     "metadata": {},
     "output_type": "execute_result"
    }
   ],
   "source": [
    "list(\"bonjour\")"
   ]
  },
  {
   "cell_type": "code",
   "execution_count": null,
   "metadata": {
    "slideshow": {
     "slide_type": "subslide"
    }
   },
   "outputs": [],
   "source": [
    "tuple('abc')"
   ]
  },
  {
   "cell_type": "code",
   "execution_count": null,
   "metadata": {
    "slideshow": {
     "slide_type": "subslide"
    }
   },
   "outputs": [],
   "source": [
    "7 in range(10)"
   ]
  },
  {
   "cell_type": "code",
   "execution_count": 15,
   "metadata": {
    "slideshow": {
     "slide_type": "subslide"
    }
   },
   "outputs": [
    {
     "data": {
      "text/plain": [
       "[2, 3, 3, 7, 3, 3, 5]"
      ]
     },
     "execution_count": 15,
     "metadata": {},
     "output_type": "execute_result"
    }
   ],
   "source": [
    "phrase = 'We are the knights who say \"Ni!\"'\n",
    "mots = phrase.split()\n",
    "[len(mot) for mot in mots]"
   ]
  },
  {
   "cell_type": "code",
   "execution_count": null,
   "metadata": {
    "slideshow": {
     "slide_type": "subslide"
    }
   },
   "outputs": [],
   "source": [
    "list(zip(range(1, 4), \n",
    "         ['un', 'deux', 'trois'], \n",
    "         ['one', 'two', 'three'], \n",
    "         ['eins', 'tzwei', 'drei']))"
   ]
  },
  {
   "cell_type": "markdown",
   "metadata": {
    "slideshow": {
     "slide_type": "slide"
    }
   },
   "source": [
    "### Intervalles d'entiers : `range`\n",
    "\n",
    "https://docs.python.org/fr/3/library/stdtypes.html#ranges\n",
    "\n",
    "La fonction `range` fabrique des intervalles d'entiers:\n",
    "\n",
    "* `range(i)` : entiers de `0` à `i-1`\n",
    "* `range(i, j)` : entiers de `i` à `j-1`\n",
    "* `range(i, j, k)` : entiers de `i` à `j-1` par\n",
    "  pas de `k`"
   ]
  },
  {
   "cell_type": "markdown",
   "metadata": {
    "slideshow": {
     "slide_type": "subslide"
    }
   },
   "source": [
    "Len opérations autorisées sur un `range` `r` sont :\n",
    "\n",
    "* `x in r, x not in r`\n",
    "* `r[i]`\n",
    "* `len(r), min(r), max(r), r.index(x), r.count(x)`\n",
    "* `list(r)` (conversion en liste)"
   ]
  },
  {
   "cell_type": "markdown",
   "metadata": {
    "slideshow": {
     "slide_type": "subslide"
    }
   },
   "source": [
    "Toutes les autres opérations sont interdites sur un range (car un range est non mutable, contrairement à une liste). Plus précisément, sont interdits :\n",
    "\n",
    "- Concaténation, répétition, affectation d'élément\n",
    "- Autres méthodes de listes (append, etc.)"
   ]
  },
  {
   "cell_type": "markdown",
   "metadata": {
    "slideshow": {
     "slide_type": "subslide"
    }
   },
   "source": [
    "Caractéristique importante :\n",
    "\n",
    "Un `range` n'est pas construit entièrement en mémoire. Au lieu de cela, ses éléments sont fabriqués « à la demande ». Donc, par exemple, un appel à `range(10000)` ne prend pas plus de place en mémoire (ni de temps à construire) que `range(2)`. "
   ]
  },
  {
   "cell_type": "markdown",
   "metadata": {
    "slideshow": {
     "slide_type": "subslide"
    }
   },
   "source": [
    "Utilisation fréquente des `range` : parcours des indices d'une liste"
   ]
  },
  {
   "cell_type": "code",
   "execution_count": 16,
   "metadata": {
    "slideshow": {
     "slide_type": "-"
    }
   },
   "outputs": [
    {
     "name": "stdout",
     "output_type": "stream",
     "text": [
      "0 -> a\n",
      "1 -> b\n",
      "2 -> c\n"
     ]
    }
   ],
   "source": [
    "lst = ['a', 'b', 'c']\n",
    "for i in range(len(lst)):\n",
    "    print(i, '->', lst[i])"
   ]
  },
  {
   "cell_type": "markdown",
   "metadata": {
    "slideshow": {
     "slide_type": "subslide"
    }
   },
   "source": [
    "**Exercice :** Écrire une fonction `premier_indice(elems, x)` qui renvoie la première position de `x` dans la liste `elems` (ou `None` si `x` n'est pas dans `elems`) en utilisant une boucle `for` et la fonction `range`\n",
    "\n",
    "*Remarque : cette fonctionnalité existe en Python (méthode `index`)*"
   ]
  },
  {
   "cell_type": "code",
   "execution_count": 17,
   "metadata": {
    "slideshow": {
     "slide_type": "fragment"
    }
   },
   "outputs": [
    {
     "data": {
      "text/plain": [
       "1"
      ]
     },
     "execution_count": 17,
     "metadata": {},
     "output_type": "execute_result"
    }
   ],
   "source": [
    "def premier_indice(elems, x):\n",
    "    for i in range(len(elems)):\n",
    "        if elems[i] == x:\n",
    "            return i  # ATTENTION ICI !\n",
    "    return None\n",
    "\n",
    "premier_indice((1, 2, 1, 2, 1), 2)"
   ]
  },
  {
   "cell_type": "markdown",
   "metadata": {
    "slideshow": {
     "slide_type": "-"
    }
   },
   "source": [
    "Pourquoi est-il nécessaire d'utiliser `range` ici ?"
   ]
  },
  {
   "cell_type": "markdown",
   "metadata": {
    "slideshow": {
     "slide_type": "subslide"
    }
   },
   "source": [
    "**Exercice :** Écrire une fonction `dernier_indice(elems, x)` qui renvoie la dernière position de `x` dans la liste `elems` (ou `None` si `x` n'est pas dans `elems`) en utilisant une boucle `for` et la fonction `range`"
   ]
  },
  {
   "cell_type": "code",
   "execution_count": null,
   "metadata": {
    "slideshow": {
     "slide_type": "-"
    }
   },
   "outputs": [],
   "source": []
  },
  {
   "cell_type": "markdown",
   "metadata": {
    "slideshow": {
     "slide_type": "slide"
    }
   },
   "source": [
    "### Un dernier type de parcours d'itérable : `enumerate`\n",
    "\n",
    "La fonction `enumerate(iterable)` renvoie un nouvel itérable constitué des couples `(i, elem)` contenant un indice et un élément. "
   ]
  },
  {
   "cell_type": "code",
   "execution_count": 18,
   "metadata": {
    "slideshow": {
     "slide_type": "-"
    }
   },
   "outputs": [
    {
     "data": {
      "text/plain": [
       "[(0, 'a'), (1, 'b'), (2, 'c')]"
      ]
     },
     "execution_count": 18,
     "metadata": {},
     "output_type": "execute_result"
    }
   ],
   "source": [
    "list(enumerate(['a', 'b', 'c']))"
   ]
  },
  {
   "cell_type": "markdown",
   "metadata": {
    "slideshow": {
     "slide_type": "subslide"
    }
   },
   "source": [
    "Reprenons un exemple précédent :"
   ]
  },
  {
   "cell_type": "code",
   "execution_count": 19,
   "metadata": {
    "slideshow": {
     "slide_type": "-"
    }
   },
   "outputs": [
    {
     "name": "stdout",
     "output_type": "stream",
     "text": [
      "0 -> a\n",
      "1 -> b\n",
      "2 -> c\n"
     ]
    }
   ],
   "source": [
    "lst = ['a', 'b', 'c']\n",
    "for i, elem in enumerate(lst):\n",
    "    print(i, '->', elem)"
   ]
  },
  {
   "cell_type": "markdown",
   "metadata": {
    "slideshow": {
     "slide_type": "subslide"
    }
   },
   "source": [
    "**Exercice :** Réécrire la fonction `premier_indice(elems, x)` en utilisant une boucle `for` et la fonction `enumerate`"
   ]
  },
  {
   "cell_type": "code",
   "execution_count": null,
   "metadata": {
    "slideshow": {
     "slide_type": "-"
    }
   },
   "outputs": [],
   "source": []
  },
  {
   "cell_type": "markdown",
   "metadata": {
    "slideshow": {
     "slide_type": "slide"
    }
   },
   "source": [
    "## Complément de cours : Travailler sur plusieurs fichiers"
   ]
  },
  {
   "cell_type": "markdown",
   "metadata": {
    "slideshow": {
     "slide_type": "-"
    }
   },
   "source": [
    "Par exemple :\n",
    "- `pieges.py`\n",
    "- `moteur.py`\n",
    "- `graphics.py`\n",
    "\n",
    "Et, dans `pieges.py` :"
   ]
  },
  {
   "cell_type": "markdown",
   "metadata": {},
   "source": [
    "```python\n",
    "from graphics import *\n",
    "```"
   ]
  },
  {
   "cell_type": "markdown",
   "metadata": {
    "slideshow": {
     "slide_type": "slide"
    }
   },
   "source": [
    "## Conseils de rédaction du rapport"
   ]
  },
  {
   "cell_type": "markdown",
   "metadata": {
    "slideshow": {
     "slide_type": "slide"
    }
   },
   "source": [
    "### Taille et format\n",
    "\n",
    "\n",
    "Formats de rendu autorisés\n",
    "- PDF (après conversion depuis un autre format : odt, docx, html, markdown...)\n",
    "- HTML\n",
    "- **Pas** au format ~~MS Word~~ (.doc, .docx) ni LibreOffice (.odt)"
   ]
  },
  {
   "cell_type": "markdown",
   "metadata": {
    "slideshow": {
     "slide_type": "subslide"
    }
   },
   "source": [
    "Logiciels recommandés :\n",
    "- [LibreOffice](https://www.libreoffice.org/) : suite bureautique libre et gratuite\n",
    "- Texte [MarkDown](https://fr.wikipedia.org/wiki/Markdown) + convertisseur (par exemple [pandoc](https://pandoc.org/))\n",
    "- IDE ou éditeur HTML + navigateur web"
   ]
  },
  {
   "cell_type": "markdown",
   "metadata": {
    "slideshow": {
     "slide_type": "subslide"
    }
   },
   "source": [
    "Mise en page :\n",
    "- Longueur conseillée : 3 pages (hors page de garde, table des matières et annexe)\n",
    "- Structure claire : en-têtes de sections + table des matières"
   ]
  },
  {
   "cell_type": "markdown",
   "metadata": {
    "slideshow": {
     "slide_type": "slide"
    }
   },
   "source": [
    "### Contenu\n",
    "\n",
    "Fonctionnement de l'équipe et organisation du travail\n",
    "- Nom et groupe de TP des membres de l'équipe de projet\n",
    "- Répartition du travail entre les membres (tâches)\n",
    "- Répartition du travail entre les membres (pourcentage)\n",
    "- Modalités d'organisation, fréquence des rencontres\n",
    "- Difficultés rencontrées"
   ]
  },
  {
   "cell_type": "markdown",
   "metadata": {
    "slideshow": {
     "slide_type": "subslide"
    }
   },
   "source": [
    "Guide d'utilisation du programme\n",
    "- Lancement\n",
    "- Paramétrage par variables globales\n",
    "- Utilisation des menus\n",
    "- Options en ligne de commande\n",
    "- Utilisation du jeu (clavier, souris, etc.)"
   ]
  },
  {
   "cell_type": "markdown",
   "metadata": {
    "slideshow": {
     "slide_type": "subslide"
    }
   },
   "source": [
    "Avancement du projet\n",
    "- État d’avancement dans les tâches obligatoires\n",
    "- Bugs connus éventuels\n",
    "- Améliorations éventuelles\n",
    "- Informations **intéressantes** sur le code (algorithmes particuliers, choix de structures de données)\n",
    "- Ce qui vous plu ou déplu dans le projet"
   ]
  },
  {
   "cell_type": "markdown",
   "metadata": {
    "slideshow": {
     "slide_type": "slide"
    }
   },
   "source": [
    "## Conseils pour le rendu du code\n",
    "\n",
    "Préparation du rendu\n",
    "- Lire ou relire les grilles d'évaluation du projet\n",
    "- Vérifier le nommage correct des fichiers (`pieges.py`, `fltk.py`, `rapport.html` ou `rapport.pdf`, plus fichiers annexes)\n",
    "- **PAS D'ARCHIVES !** (zip, etc.), et **surtout pas de .rar**\n",
    "- Vérifier (avant le rendu) le bon lancement du programme\n",
    "- Vérifier la présence des noms des membres dans chaque fichier de code"
   ]
  },
  {
   "cell_type": "markdown",
   "metadata": {
    "slideshow": {
     "slide_type": "subslide"
    }
   },
   "source": [
    "Vérifications après le rendu\n",
    "- Re-télécharger depuis elearning dans un répertoire \"propre\"\n",
    "- Vérifier le bon fonctionnement du programme dans ce répertoire\n",
    "- Corriger le rendu si nécessaire"
   ]
  },
  {
   "cell_type": "markdown",
   "metadata": {
    "slideshow": {
     "slide_type": "slide"
    }
   },
   "source": [
    "## Questions-réponses\n",
    "\n",
    "À vous..."
   ]
  },
  {
   "cell_type": "code",
   "execution_count": null,
   "metadata": {},
   "outputs": [],
   "source": []
  }
 ],
 "metadata": {
  "celltoolbar": "Slideshow",
  "kernelspec": {
   "display_name": "Python 3 (ipykernel)",
   "language": "python",
   "name": "python3"
  },
  "language_info": {
   "codemirror_mode": {
    "name": "ipython",
    "version": 3
   },
   "file_extension": ".py",
   "mimetype": "text/x-python",
   "name": "python",
   "nbconvert_exporter": "python",
   "pygments_lexer": "ipython3",
   "version": "3.10.12"
  }
 },
 "nbformat": 4,
 "nbformat_minor": 2
}
