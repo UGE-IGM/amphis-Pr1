{
 "cells": [
  {
   "cell_type": "markdown",
   "id": "eac8b019",
   "metadata": {
    "slideshow": {
     "slide_type": "slide"
    }
   },
   "source": [
    "<div style=\"align:center; font-size:large\">\n",
    "    <img src='img/logo-igm.png' width=50%>\n",
    "</div>\n",
    "\n",
    "**L1 Mathématiques - L1 Informatique — Semestre 1**\n",
    "\n",
    "# Projet 1 - Cours du 12/12/2022"
   ]
  },
  {
   "cell_type": "markdown",
   "id": "097f654a",
   "metadata": {
    "slideshow": {
     "slide_type": "subslide"
    }
   },
   "source": [
    "Contenu\n",
    "- Conseils de rédaction du rapport\n",
    "- Conseils pour le rendu du code\n",
    "- Conseils pour la présentation\n",
    "- Conseils pour la tâche 1\n",
    "- Compléments et exercices selon demande\n",
    "- Questions / réponses"
   ]
  },
  {
   "cell_type": "markdown",
   "id": "13351918",
   "metadata": {
    "slideshow": {
     "slide_type": "slide"
    }
   },
   "source": [
    "## Conseils de rédaction du rapport"
   ]
  },
  {
   "cell_type": "markdown",
   "id": "0e211413",
   "metadata": {
    "slideshow": {
     "slide_type": "slide"
    }
   },
   "source": [
    "### Taille et format\n",
    "\n",
    "\n",
    "Formats de rendu autorisés\n",
    "- PDF (après conversion depuis un autre format : odt, docx, html, markdown...)\n",
    "- HTML\n",
    "- **Pas** au format ~~MS Word~~ (.doc, .docx)"
   ]
  },
  {
   "cell_type": "markdown",
   "id": "1f579143",
   "metadata": {
    "slideshow": {
     "slide_type": "subslide"
    }
   },
   "source": [
    "Logiciels recommandés :\n",
    "- [LibreOffice](https://www.libreoffice.org/) : suite bureautique libre et gratuite\n",
    "- Texte [MarkDown](https://fr.wikipedia.org/wiki/Markdown) + convertisseur (par exemple [pandoc](https://pandoc.org/))\n",
    "- IDE ou éditeur HTML + navigateur web"
   ]
  },
  {
   "cell_type": "markdown",
   "id": "7b2b0bb3",
   "metadata": {
    "slideshow": {
     "slide_type": "subslide"
    }
   },
   "source": [
    "Mise en page :\n",
    "- Longueur conseillée : 5 pages (hors page de garde, table des matières et annexe)\n",
    "- Structure claire : en-têtes de sections + table des matières"
   ]
  },
  {
   "cell_type": "markdown",
   "id": "eb05188d",
   "metadata": {
    "slideshow": {
     "slide_type": "slide"
    }
   },
   "source": [
    "### Contenu\n",
    "\n",
    "Fonctionnement de l'équipe et organisation du travail\n",
    "- Nom et groupe des membres de l'équipe de projet\n",
    "- Répartition du travail entre les membres (tâches)\n",
    "- Répartition du travail entre les membres (pourcentage)\n",
    "- Modalités d'organisation, fréquence des rencontres\n",
    "- Difficultés rencontrées"
   ]
  },
  {
   "cell_type": "markdown",
   "id": "50e124b8",
   "metadata": {
    "slideshow": {
     "slide_type": "subslide"
    }
   },
   "source": [
    "Guide d'utilisation du programme\n",
    "- Lancement\n",
    "- Paramétrage par variables globales\n",
    "- Utilisation des menus\n",
    "- Options en ligne de commande\n",
    "- Utilisation du jeu (clavier, souris, etc.)"
   ]
  },
  {
   "cell_type": "markdown",
   "id": "ad954113",
   "metadata": {
    "slideshow": {
     "slide_type": "subslide"
    }
   },
   "source": [
    "Avancement du projet\n",
    "- État d’avancement dans les tâches obligatoires\n",
    "- Bugs connus éventuels\n",
    "- Améliorations éventuelles\n",
    "- Informations **intéressantes** sur le code (algorithmes particuliers, choix de structures de données)\n",
    "- Ce qui vous plu ou déplu dans le projet"
   ]
  },
  {
   "cell_type": "markdown",
   "id": "e68d0b2b",
   "metadata": {
    "slideshow": {
     "slide_type": "slide"
    }
   },
   "source": [
    "## Conseils pour le rendu du code\n",
    "\n",
    "Préparation du rendu\n",
    "- Lire ou relire les grilles d'évaluation du projet\n",
    "- Vérifier le nommage correct des fichiers (`moulins.py`, `fltk.py`, `rapport.html` ou `rapport.pdf`, plus fichiers annexes)\n",
    "- **PAS D'ARCHIVES !** (zip, rar, etc.)\n",
    "- Vérifier (avant le rendu) le bon lancement du programme\n",
    "- Vérifier la présence des noms des membres dans chaque fichier de code"
   ]
  },
  {
   "cell_type": "markdown",
   "id": "82e66ae0",
   "metadata": {
    "slideshow": {
     "slide_type": "subslide"
    }
   },
   "source": [
    "Vérifications après le rendu\n",
    "- Re-télécharger depuis elearning dans un répertoire \"propre\"\n",
    "- Vérifier le bon fonctionnement du programme dans ce répertoire\n",
    "- Corriger le rendu si nécessaire"
   ]
  },
  {
   "cell_type": "markdown",
   "id": "daa0f161",
   "metadata": {
    "slideshow": {
     "slide_type": "slide"
    }
   },
   "source": [
    "## Conseils pour la présentation\n",
    "\n",
    "Objectif\n",
    "- Permettre au jury de se faire *rapidement* une idée juste de votre travail\n",
    "- Montrer tout ce qui selon vous a de l'intérêt dans votre projet\n",
    "- Vous entraîner à parler de votre travail devant un auditoire"
   ]
  },
  {
   "cell_type": "markdown",
   "id": "b86a6230",
   "metadata": {
    "slideshow": {
     "slide_type": "subslide"
    }
   },
   "source": [
    "Interactions avec le jury\n",
    "- Pas un rôle passif : *vous* devez mener la partie présentation\n",
    "- Assurer la circulation de la parole\n",
    "- Chaque membre de l'équipe doit maîtriser l'ensemble du projet"
   ]
  },
  {
   "cell_type": "markdown",
   "id": "e7e198b3",
   "metadata": {
    "slideshow": {
     "slide_type": "subslide"
    }
   },
   "source": [
    "Préparation du lancement\n",
    "- Choisir un membre du projet pour exécuter le code\n",
    "- Choisir un support de présentation (machine personnelle ou machine de TP)\n",
    "- Télécharger le code depuis elearning dans un répertoire **facile d'accès**\n",
    "- Vérifier le bon lancement du programme"
   ]
  },
  {
   "cell_type": "markdown",
   "id": "11ff6284",
   "metadata": {
    "slideshow": {
     "slide_type": "subslide"
    }
   },
   "source": [
    "Choix du contenu de la présentation (suggestions)\n",
    "- Démonstration de partie avec paramètres par défaut\n",
    "- Présentation des réglages possibles, menus, etc.\n",
    "- Démonstration des améliorations s'il y en a\n",
    "- Présentation rapide du code s'il reste du temps"
   ]
  },
  {
   "cell_type": "markdown",
   "id": "da887abf",
   "metadata": {},
   "source": [
    "## Documenter son code : *docstrings* et *doctests*\n",
    "\n",
    "Exemple : le jeu de retournement (partie *modèle*)"
   ]
  },
  {
   "cell_type": "code",
   "execution_count": null,
   "id": "13cb782b",
   "metadata": {},
   "outputs": [],
   "source": [
    "def init_plateau(taille):\n",
    "    \"\"\"\n",
    "    Initialise un plateau éteint de taille x taille cases.\n",
    "    \n",
    "    Le plateau est représenté par une liste de listes\n",
    "    de booléens (ligne par ligne). La valeur False correspond\n",
    "    à une case éteinte.\n",
    "    \n",
    "    Paramètres :\n",
    "    - taille (int) : nombre de lignes et de colonnes\n",
    "    - ...\n",
    "    \n",
    "    Résultat :\n",
    "    - un plateau éteint (liste de liste de bool)\n",
    "    \n",
    "    Effets secondaires (effets de bord) :\n",
    "    - aucun\n",
    "    \n",
    "    >>> init_plateau(0)\n",
    "    []\n",
    "    >>> init_plateau(2)\n",
    "    [[False, False], [False, False]]\n",
    "    \"\"\"\n",
    "    plateau = []\n",
    "    for _ in range(taille):\n",
    "        plateau.append([False] * taille)\n",
    "    return plateau"
   ]
  },
  {
   "cell_type": "code",
   "execution_count": null,
   "id": "33c8a423",
   "metadata": {},
   "outputs": [],
   "source": [
    "def voisines(i,  j, taille):\n",
    "    \"\"\"\n",
    "    Détermine les cases voisines de la case (i, j)\n",
    "    dans un plateau de (taille x taille) cases.\n",
    "    \n",
    "    Les cases voisines sont renvoyées sous la forme d'une\n",
    "    liste de couples (ligne, colonne). Les cases qui sortent\n",
    "    du plateau (ligne ou colonne < 0 ou >= taille) ne sont pas\n",
    "    incluses.\n",
    "    \n",
    "    Paramètres :\n",
    "    - i (int) : numéro de ligne\n",
    "    - j (int) : numéro de colonne\n",
    "    - taille (int) : taille de la grille\n",
    "    \n",
    "    Résultat :\n",
    "    - liste des cases voisines (list de (int, int))\n",
    "    \n",
    "    Exemples :\n",
    "    >>> voisines(0, 0, 1)\n",
    "    []\n",
    "    >>> voisines(0, 0, 2)\n",
    "    [(1, 0), (0, 1)]\n",
    "    >>> voisines(2, 3, 5)\n",
    "    [(1, 3), (2, 2), (3, 3), (2, 4)]\n",
    "    \n",
    "    \"\"\"\n",
    "    cases = []\n",
    "    if i > 0:\n",
    "        cases.append((i-1, j))\n",
    "    if j > 0:\n",
    "        cases.append((i, j-1))\n",
    "    if i < taille-1:\n",
    "        cases.append((i+1, j))\n",
    "    if j < taille-1:\n",
    "        cases.append((i, j+1))\n",
    "    return cases"
   ]
  },
  {
   "cell_type": "markdown",
   "id": "ea3fd2ab",
   "metadata": {},
   "source": [
    "Pour lancer tous les tests :"
   ]
  },
  {
   "cell_type": "code",
   "execution_count": null,
   "id": "9dd24293",
   "metadata": {},
   "outputs": [],
   "source": [
    "from doctest import testmod\n",
    "testmod()"
   ]
  },
  {
   "cell_type": "markdown",
   "id": "316e44c3",
   "metadata": {},
   "source": [
    "## Tâche 1 : modélisation du plateau"
   ]
  },
  {
   "cell_type": "markdown",
   "id": "8f4dda58",
   "metadata": {},
   "source": [
    "Ce qu'on veut pouvoir faire ou savoir *(à vous !)* :\n",
    "\n",
    "- Comment parler d'une case ?\n",
    "- Quel est l'état d'une case donnée\n",
    "- Où on doit dessiner une case sur la fenêtre\n",
    "- Quels segments dessiner sur le plateau\n",
    "- Si un coup (case1 -> case2) est possible\n",
    "- S'il existe un moulin sur le plateau\n",
    "  (trois pions de même couleur alignés)\n",
    "- Si on est en phase 1, 2 ou 3\n",
    "    - Si on a posé tous nos pions\n",
    "    - Si un joueur a deux ou trois pions"
   ]
  },
  {
   "cell_type": "markdown",
   "id": "29502e48",
   "metadata": {},
   "source": [
    "Représentations envisagées :\n",
    "\n",
    "- Pour une case :\n",
    "    - un nom du genre \"c4\" ou \"a1\"\n",
    "    - un couple (ligne, colonne)\n",
    "    - un numéro de 0 à (nb_cases-1)\n",
    "    - etc.\n",
    "- Pour l'état des cases :\n",
    "    - un dictionnaire dont les clés \n",
    "      sont des noms de case et les valeurs sont\n",
    "      \"vide\", \"joueur1\", \"joueur2\" (par exemple)\n",
    "    - une liste de listes d'états de case\n",
    "    - une liste des positions des pions du joueur 1, \n",
    "      une liste des positions des pions du joueur 2 et\n",
    "      une liste des cases vides\n",
    "    - etc.\n",
    "- Les liens entre cases\n",
    "    - un dictionnaire dont les clés \n",
    "      sont des noms de case et dont les valeurs sont les\n",
    "      listes de noms des cases voisines\n",
    "    - liste de listes dont chaque élément (repéré par (i, j)) \n",
    "      est la liste des voisines de la case (i, j)\n",
    "    - liste de couples de cases (origine -> destination)\n",
    "    - etc.\n",
    "      "
   ]
  },
  {
   "cell_type": "markdown",
   "id": "b3208b6f",
   "metadata": {},
   "source": [
    "Exemple avec un dictionnaire :"
   ]
  },
  {
   "cell_type": "code",
   "execution_count": null,
   "id": "b5c78874",
   "metadata": {},
   "outputs": [],
   "source": [
    "voisines = {\n",
    "    (1, 1): [(2, 1), (1, 2)],\n",
    "    (1, 2): ...\n",
    "}"
   ]
  },
  {
   "cell_type": "markdown",
   "id": "5bd0207f",
   "metadata": {},
   "source": [
    "## Un petit extra : plateau en ASCII art"
   ]
  },
  {
   "cell_type": "code",
   "execution_count": 33,
   "id": "e61f4687",
   "metadata": {},
   "outputs": [],
   "source": [
    "plateau6 = \"\"\"\n",
    "o---o---o\n",
    "|   |   |\n",
    "| o-o-o |\n",
    "| |   | |\n",
    "o-o   o-o\n",
    "| |   | |\n",
    "| o-o-o |\n",
    "|   |   |\n",
    "o---o---o\n",
    "\"\"\""
   ]
  }
 ],
 "metadata": {
  "celltoolbar": "Diaporama",
  "kernelspec": {
   "display_name": "Python 3 (ipykernel)",
   "language": "python",
   "name": "python3"
  },
  "language_info": {
   "codemirror_mode": {
    "name": "ipython",
    "version": 3
   },
   "file_extension": ".py",
   "mimetype": "text/x-python",
   "name": "python",
   "nbconvert_exporter": "python",
   "pygments_lexer": "ipython3",
   "version": "3.10.8"
  },
  "vscode": {
   "interpreter": {
    "hash": "aee8b7b246df8f9039afb4144a1f6fd8d2ca17a180786b69acc140d282b71a49"
   }
  }
 },
 "nbformat": 4,
 "nbformat_minor": 5
}
